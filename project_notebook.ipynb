{
 "cells": [
  {
   "cell_type": "markdown",
   "metadata": {},
   "source": [
    "# Bee Image Classification using a CNN to detect Varroa mite infestation\n",
    "\n",
    "#### Author: Mahdi Shadkam-Farrokhi: [GitHub](https://github.com/Shaddyjr) | [Medium](https://medium.com/@mahdis.pw) | [LinkedIn](https://www.linkedin.com/in/mahdi-shadkam-farrokhi-m-s-8a410958/) | [mahdis.pw](http://mahdis.pw)"
   ]
  },
  {
   "cell_type": "markdown",
   "metadata": {},
   "source": [
    "## Problem Statement\n",
    "Beekeepers must face a myriad of threats to their hives. The _Varroa (pronounced \"vr-ow-uh\") destructor_, or more commonly the _varroa mite_, is a natural predator to honey bees and is one of the biggest pests plaguing the bee keeping community. The sooner a keeper can begin treating for _varroa_, the less likely a [colony collapse](https://ipm.missouri.edu/MPG/2013/7/Colony-Collapse-Disorder-the-Varroa-Mite-and-Resources-for-Beekeepers/) will occur.  Early detection could mean the difference between a healthy hive and a dead one. \n",
    "\n",
    "We plan to create such an early detection tool by using the dataset from the [Honey Bee Annotated Image Dataset](https://www.kaggle.com/jenny18/honey-bee-annotated-images) found on Kaggle. With these annotated images, we will train a Convolutional Neural Network (CNN) to classify bee images as having _varroa mites_ or not (binary classification).\n",
    "\n",
    "Accuracy will be our metric for model selection."
   ]
  },
  {
   "cell_type": "markdown",
   "metadata": {},
   "source": [
    "## Table of contents"
   ]
  },
  {
   "cell_type": "markdown",
   "metadata": {},
   "source": [
    "- [Data Dictionary](#Data-Dictionary)\n",
    "- [Imports and loading Data](#Imports-and-loading-Data)\n",
    "- [Preliminary EDA](#Preliminary-EDA)\n",
    "    - [Handling target variable](#Handling-target-variable)\n",
    "    - [Clearing unnecessary columns](#Clearing-unnecessary-columns)\n",
    "    - [Visualizing file images](#Visualizing-file-images)\n",
    "- [Source Documentation](#Source-Documentation)"
   ]
  },
  {
   "cell_type": "markdown",
   "metadata": {},
   "source": [
    "## Data Dictionary\n",
    "The data used for this analysis was taken directly from the [Honey Bee Annotated Image Dataset](https://www.kaggle.com/jenny18/honey-bee-annotated-images) fround on Kaggle.\n",
    "\n",
    "The following is the data dictionary for the original dataset:\n",
    "\n",
    "|column|type|description|\n",
    "|-|-|-|\n",
    "|file|string|name of file in 'bee_imgs' folder|\n",
    "|date|string|date image was captured|\n",
    "|time|string|time of day of image capture (military time)|\n",
    "|location|string|Location (city, state, country)|\n",
    "|zip|int| Zip code of the location|\n",
    "|subspecies|string|Subspecies of _Apis mellifera_ species|\n",
    "|health|string|Health of the bee|\n",
    "|pollen_carrying|boolean|Presence of pollen on the bee's legs|\n",
    "|caste|string|Worker, Drone, or Queen bee|"
   ]
  },
  {
   "cell_type": "markdown",
   "metadata": {},
   "source": [
    "## Imports and loading Data"
   ]
  },
  {
   "cell_type": "code",
   "execution_count": 1,
   "metadata": {},
   "outputs": [
    {
     "name": "stderr",
     "output_type": "stream",
     "text": [
      "Using TensorFlow backend.\n"
     ]
    },
    {
     "name": "stdout",
     "output_type": "stream",
     "text": [
      "Couldn't import dot_parser, loading of dot files will not be possible.\n"
     ]
    }
   ],
   "source": [
    "import pandas as pd\n",
    "import numpy as np\n",
    "import seaborn as sns\n",
    "import matplotlib.pyplot as plt\n",
    "import imageio\n",
    "from skimage.transform import rescale, resize, rotate\n",
    "from skimage.color import rgb2gray\n",
    "from sklearn.metrics import confusion_matrix, auc, accuracy_score\n",
    "from sklearn.model_selection import train_test_split\n",
    "\n",
    "from keras.models import Sequential\n",
    "from keras.layers import Dense, Dropout, Activation, Flatten\n",
    "from keras.layers import Conv2D, MaxPooling2D\n",
    "from keras.utils import np_utils\n",
    "\n",
    "import warnings\n",
    "warnings.filterwarnings(\"ignore\")\n",
    "\n",
    "random_state = 42\n",
    "\n",
    "# For reproducibility\n",
    "np.random.seed(random_state)"
   ]
  },
  {
   "cell_type": "code",
   "execution_count": 2,
   "metadata": {},
   "outputs": [],
   "source": [
    "data = pd.read_csv('./data/bee_data.csv')"
   ]
  },
  {
   "cell_type": "code",
   "execution_count": 3,
   "metadata": {},
   "outputs": [
    {
     "data": {
      "text/html": [
       "<div>\n",
       "<style scoped>\n",
       "    .dataframe tbody tr th:only-of-type {\n",
       "        vertical-align: middle;\n",
       "    }\n",
       "\n",
       "    .dataframe tbody tr th {\n",
       "        vertical-align: top;\n",
       "    }\n",
       "\n",
       "    .dataframe thead th {\n",
       "        text-align: right;\n",
       "    }\n",
       "</style>\n",
       "<table border=\"1\" class=\"dataframe\">\n",
       "  <thead>\n",
       "    <tr style=\"text-align: right;\">\n",
       "      <th></th>\n",
       "      <th>file</th>\n",
       "      <th>date</th>\n",
       "      <th>time</th>\n",
       "      <th>location</th>\n",
       "      <th>zip code</th>\n",
       "      <th>subspecies</th>\n",
       "      <th>health</th>\n",
       "      <th>pollen_carrying</th>\n",
       "      <th>caste</th>\n",
       "    </tr>\n",
       "  </thead>\n",
       "  <tbody>\n",
       "    <tr>\n",
       "      <th>0</th>\n",
       "      <td>041_066.png</td>\n",
       "      <td>8/28/18</td>\n",
       "      <td>16:07</td>\n",
       "      <td>Alvin, TX, USA</td>\n",
       "      <td>77511</td>\n",
       "      <td>-1</td>\n",
       "      <td>hive being robbed</td>\n",
       "      <td>False</td>\n",
       "      <td>worker</td>\n",
       "    </tr>\n",
       "    <tr>\n",
       "      <th>1</th>\n",
       "      <td>041_072.png</td>\n",
       "      <td>8/28/18</td>\n",
       "      <td>16:07</td>\n",
       "      <td>Alvin, TX, USA</td>\n",
       "      <td>77511</td>\n",
       "      <td>-1</td>\n",
       "      <td>hive being robbed</td>\n",
       "      <td>False</td>\n",
       "      <td>worker</td>\n",
       "    </tr>\n",
       "    <tr>\n",
       "      <th>2</th>\n",
       "      <td>041_073.png</td>\n",
       "      <td>8/28/18</td>\n",
       "      <td>16:07</td>\n",
       "      <td>Alvin, TX, USA</td>\n",
       "      <td>77511</td>\n",
       "      <td>-1</td>\n",
       "      <td>hive being robbed</td>\n",
       "      <td>False</td>\n",
       "      <td>worker</td>\n",
       "    </tr>\n",
       "    <tr>\n",
       "      <th>3</th>\n",
       "      <td>041_067.png</td>\n",
       "      <td>8/28/18</td>\n",
       "      <td>16:07</td>\n",
       "      <td>Alvin, TX, USA</td>\n",
       "      <td>77511</td>\n",
       "      <td>-1</td>\n",
       "      <td>hive being robbed</td>\n",
       "      <td>False</td>\n",
       "      <td>worker</td>\n",
       "    </tr>\n",
       "    <tr>\n",
       "      <th>4</th>\n",
       "      <td>041_059.png</td>\n",
       "      <td>8/28/18</td>\n",
       "      <td>16:07</td>\n",
       "      <td>Alvin, TX, USA</td>\n",
       "      <td>77511</td>\n",
       "      <td>-1</td>\n",
       "      <td>hive being robbed</td>\n",
       "      <td>False</td>\n",
       "      <td>worker</td>\n",
       "    </tr>\n",
       "  </tbody>\n",
       "</table>\n",
       "</div>"
      ],
      "text/plain": [
       "          file     date   time        location  zip code subspecies  \\\n",
       "0  041_066.png  8/28/18  16:07  Alvin, TX, USA     77511         -1   \n",
       "1  041_072.png  8/28/18  16:07  Alvin, TX, USA     77511         -1   \n",
       "2  041_073.png  8/28/18  16:07  Alvin, TX, USA     77511         -1   \n",
       "3  041_067.png  8/28/18  16:07  Alvin, TX, USA     77511         -1   \n",
       "4  041_059.png  8/28/18  16:07  Alvin, TX, USA     77511         -1   \n",
       "\n",
       "              health  pollen_carrying   caste  \n",
       "0  hive being robbed            False  worker  \n",
       "1  hive being robbed            False  worker  \n",
       "2  hive being robbed            False  worker  \n",
       "3  hive being robbed            False  worker  \n",
       "4  hive being robbed            False  worker  "
      ]
     },
     "execution_count": 3,
     "metadata": {},
     "output_type": "execute_result"
    }
   ],
   "source": [
    "data.head()"
   ]
  },
  {
   "cell_type": "code",
   "execution_count": 4,
   "metadata": {},
   "outputs": [
    {
     "data": {
      "text/plain": [
       "(5172, 9)"
      ]
     },
     "execution_count": 4,
     "metadata": {},
     "output_type": "execute_result"
    }
   ],
   "source": [
    "data.shape"
   ]
  },
  {
   "cell_type": "markdown",
   "metadata": {},
   "source": [
    "## Preliminary EDA"
   ]
  },
  {
   "cell_type": "markdown",
   "metadata": {},
   "source": [
    "### Handling target variable"
   ]
  },
  {
   "cell_type": "code",
   "execution_count": 5,
   "metadata": {},
   "outputs": [
    {
     "data": {
      "image/png": "[encoded data removed]",
      "text/plain": [
       "<Figure size 432x288 with 1 Axes>"
      ]
     },
     "metadata": {
      "needs_background": "light"
     },
     "output_type": "display_data"
    }
   ],
   "source": [
    "health_counts = data[\"health\"].value_counts()\n",
    "\n",
    "plt.title(\"Counts of bee $health$ categories\")\n",
    "sns.barplot(x = health_counts, y = health_counts.index);"
   ]
  },
  {
   "cell_type": "markdown",
   "metadata": {},
   "source": [
    "The `healthy` and varroa-associated categories are the observations of interest and comprise the majority of total observations in the dataset. \n",
    "\n",
    "_The other observations will be dropped_"
   ]
  },
  {
   "cell_type": "code",
   "execution_count": 6,
   "metadata": {},
   "outputs": [],
   "source": [
    "target_categories = [name for name in health_counts.index if \"varr\" in name.lower() or \"health\" in name.lower()]\n",
    "data = data[[status in target_categories for status in data[\"health\"]]]\n",
    "data[\"has_varroa\"] = (data[\"health\"] != \"healthy\").astype(int)"
   ]
  },
  {
   "cell_type": "code",
   "execution_count": 7,
   "metadata": {},
   "outputs": [
    {
     "data": {
      "text/plain": [
       "(4435, 10)"
      ]
     },
     "execution_count": 7,
     "metadata": {},
     "output_type": "execute_result"
    }
   ],
   "source": [
    "data.shape"
   ]
  },
  {
   "cell_type": "code",
   "execution_count": 8,
   "metadata": {},
   "outputs": [
    {
     "data": {
      "image/png": "[encoded data removed]",
      "text/plain": [
       "<Figure size 432x288 with 1 Axes>"
      ]
     },
     "metadata": {
      "needs_background": "light"
     },
     "output_type": "display_data"
    }
   ],
   "source": [
    "health_counts = data[\"has_varroa\"].value_counts()\n",
    "\n",
    "plt.title(\"Counts of bee $health$ categories\")\n",
    "sns.barplot(x = health_counts, y = health_counts.index, orient=\"h\");"
   ]
  },
  {
   "cell_type": "markdown",
   "metadata": {},
   "source": [
    "### Establishing baseline model"
   ]
  },
  {
   "cell_type": "code",
   "execution_count": 9,
   "metadata": {},
   "outputs": [
    {
     "data": {
      "text/plain": [
       "0    0.763021\n",
       "1    0.236979\n",
       "Name: has_varroa, dtype: float64"
      ]
     },
     "execution_count": 9,
     "metadata": {},
     "output_type": "execute_result"
    }
   ],
   "source": [
    "data[\"has_varroa\"].value_counts(normalize = True)"
   ]
  },
  {
   "cell_type": "markdown",
   "metadata": {},
   "source": [
    "These data are somewhat unbalanced, with the observation of interest accounting for almost 24% of the data.\n",
    "\n",
    "With 76% of the dataset consisting of healthy bees, this serves as the baseline model's accuracy. Any model with an accuracy significantly higher than 76% can be considered superior to this naive model."
   ]
  },
  {
   "cell_type": "code",
   "execution_count": 10,
   "metadata": {},
   "outputs": [
    {
     "data": {
      "text/html": [
       "<div>\n",
       "<style scoped>\n",
       "    .dataframe tbody tr th:only-of-type {\n",
       "        vertical-align: middle;\n",
       "    }\n",
       "\n",
       "    .dataframe tbody tr th {\n",
       "        vertical-align: top;\n",
       "    }\n",
       "\n",
       "    .dataframe thead th {\n",
       "        text-align: right;\n",
       "    }\n",
       "</style>\n",
       "<table border=\"1\" class=\"dataframe\">\n",
       "  <thead>\n",
       "    <tr style=\"text-align: right;\">\n",
       "      <th></th>\n",
       "      <th>has_varroa</th>\n",
       "    </tr>\n",
       "    <tr>\n",
       "      <th>location</th>\n",
       "      <th></th>\n",
       "    </tr>\n",
       "  </thead>\n",
       "  <tbody>\n",
       "    <tr>\n",
       "      <th>Athens, GA, USA</th>\n",
       "      <td>1</td>\n",
       "    </tr>\n",
       "    <tr>\n",
       "      <th>Athens, Georgia, USA</th>\n",
       "      <td>1</td>\n",
       "    </tr>\n",
       "    <tr>\n",
       "      <th>Des Moines, IA, USA</th>\n",
       "      <td>0</td>\n",
       "    </tr>\n",
       "    <tr>\n",
       "      <th>Keene, NH, USA</th>\n",
       "      <td>0</td>\n",
       "    </tr>\n",
       "    <tr>\n",
       "      <th>New Orleans, LA, USA</th>\n",
       "      <td>0</td>\n",
       "    </tr>\n",
       "    <tr>\n",
       "      <th>San Jose, CA, USA</th>\n",
       "      <td>0</td>\n",
       "    </tr>\n",
       "    <tr>\n",
       "      <th>Saratoga, CA, USA</th>\n",
       "      <td>0</td>\n",
       "    </tr>\n",
       "  </tbody>\n",
       "</table>\n",
       "</div>"
      ],
      "text/plain": [
       "                      has_varroa\n",
       "location                        \n",
       "Athens, GA, USA                1\n",
       "Athens, Georgia, USA           1\n",
       "Des Moines, IA, USA            0\n",
       "Keene, NH, USA                 0\n",
       "New Orleans, LA, USA           0\n",
       "San Jose, CA, USA              0\n",
       "Saratoga, CA, USA              0"
      ]
     },
     "execution_count": 10,
     "metadata": {},
     "output_type": "execute_result"
    }
   ],
   "source": [
    "data.groupby(\"location\").mean()[[\"has_varroa\"]]"
   ]
  },
  {
   "cell_type": "markdown",
   "metadata": {},
   "source": [
    "Apparently only two locations actually showcased varroa, which could train the model on factors unrelated to infected bees, such as classifying aspects of the location (parts of the image background) and/or the photographer's style (angle of shot, orientation, etc.)."
   ]
  },
  {
   "cell_type": "markdown",
   "metadata": {},
   "source": [
    "### Clearing unnecessary columns\n",
    "While a typical model would benefit from the image annotations, we're attempting to make practical classifications based solely on a user's image. As such, most of the columns in the dataset are irrelevant."
   ]
  },
  {
   "cell_type": "code",
   "execution_count": 11,
   "metadata": {},
   "outputs": [
    {
     "data": {
      "text/html": [
       "<div>\n",
       "<style scoped>\n",
       "    .dataframe tbody tr th:only-of-type {\n",
       "        vertical-align: middle;\n",
       "    }\n",
       "\n",
       "    .dataframe tbody tr th {\n",
       "        vertical-align: top;\n",
       "    }\n",
       "\n",
       "    .dataframe thead th {\n",
       "        text-align: right;\n",
       "    }\n",
       "</style>\n",
       "<table border=\"1\" class=\"dataframe\">\n",
       "  <thead>\n",
       "    <tr style=\"text-align: right;\">\n",
       "      <th></th>\n",
       "      <th>file</th>\n",
       "      <th>date</th>\n",
       "      <th>time</th>\n",
       "      <th>location</th>\n",
       "      <th>zip code</th>\n",
       "      <th>subspecies</th>\n",
       "      <th>health</th>\n",
       "      <th>pollen_carrying</th>\n",
       "      <th>caste</th>\n",
       "      <th>has_varroa</th>\n",
       "    </tr>\n",
       "  </thead>\n",
       "  <tbody>\n",
       "    <tr>\n",
       "      <th>74</th>\n",
       "      <td>017_029.png</td>\n",
       "      <td>8/6/18</td>\n",
       "      <td>13:21</td>\n",
       "      <td>Saratoga, CA, USA</td>\n",
       "      <td>95070</td>\n",
       "      <td>Italian honey bee</td>\n",
       "      <td>healthy</td>\n",
       "      <td>False</td>\n",
       "      <td>worker</td>\n",
       "      <td>0</td>\n",
       "    </tr>\n",
       "  </tbody>\n",
       "</table>\n",
       "</div>"
      ],
      "text/plain": [
       "           file    date   time           location  zip code  \\\n",
       "74  017_029.png  8/6/18  13:21  Saratoga, CA, USA     95070   \n",
       "\n",
       "           subspecies   health  pollen_carrying   caste  has_varroa  \n",
       "74  Italian honey bee  healthy            False  worker           0  "
      ]
     },
     "execution_count": 11,
     "metadata": {},
     "output_type": "execute_result"
    }
   ],
   "source": [
    "data.head(1)"
   ]
  },
  {
   "cell_type": "code",
   "execution_count": 12,
   "metadata": {},
   "outputs": [
    {
     "data": {
      "text/html": [
       "<div>\n",
       "<style scoped>\n",
       "    .dataframe tbody tr th:only-of-type {\n",
       "        vertical-align: middle;\n",
       "    }\n",
       "\n",
       "    .dataframe tbody tr th {\n",
       "        vertical-align: top;\n",
       "    }\n",
       "\n",
       "    .dataframe thead th {\n",
       "        text-align: right;\n",
       "    }\n",
       "</style>\n",
       "<table border=\"1\" class=\"dataframe\">\n",
       "  <thead>\n",
       "    <tr style=\"text-align: right;\">\n",
       "      <th></th>\n",
       "      <th>file</th>\n",
       "      <th>has_varroa</th>\n",
       "    </tr>\n",
       "  </thead>\n",
       "  <tbody>\n",
       "    <tr>\n",
       "      <th>74</th>\n",
       "      <td>017_029.png</td>\n",
       "      <td>0</td>\n",
       "    </tr>\n",
       "    <tr>\n",
       "      <th>75</th>\n",
       "      <td>017_015.png</td>\n",
       "      <td>0</td>\n",
       "    </tr>\n",
       "  </tbody>\n",
       "</table>\n",
       "</div>"
      ],
      "text/plain": [
       "           file  has_varroa\n",
       "74  017_029.png           0\n",
       "75  017_015.png           0"
      ]
     },
     "execution_count": 12,
     "metadata": {},
     "output_type": "execute_result"
    }
   ],
   "source": [
    "data = data[[\"file\",\"has_varroa\"]]\n",
    "data.head(2)"
   ]
  },
  {
   "cell_type": "markdown",
   "metadata": {},
   "source": [
    "###  Visualizing file images\n",
    "Viewing the actual images that will be used to train the CNN may help inform how best to approach potentially cleaning and/or preparing the images for classification training."
   ]
  },
  {
   "cell_type": "code",
   "execution_count": 13,
   "metadata": {},
   "outputs": [],
   "source": [
    "def get_image_data(files):\n",
    "    IMAGE_FILE_ROOT = './data/bee_imgs/' \n",
    "    return np.asanyarray([imageio.imread(\"{}{}\".format(IMAGE_FILE_ROOT, file)) for file in files])"
   ]
  },
  {
   "cell_type": "code",
   "execution_count": 14,
   "metadata": {},
   "outputs": [],
   "source": [
    "def show_image(image, ax = plt, title = None, show_size = False):\n",
    "    ax.imshow(image)\n",
    "    if title:\n",
    "        ax.set_title(title)\n",
    "    if not show_size:\n",
    "        ax.tick_params(bottom = False, left = False, labelbottom = False, labelleft = False)"
   ]
  },
  {
   "cell_type": "code",
   "execution_count": 15,
   "metadata": {},
   "outputs": [
    {
     "data": {
      "image/png": "[encoded data removed]",
      "text/plain": [
       "<Figure size 432x288 with 1 Axes>"
      ]
     },
     "metadata": {},
     "output_type": "display_data"
    }
   ],
   "source": [
    "raw_images = get_image_data(data[\"file\"].values)\n",
    "show_image(raw_images[0])"
   ]
  },
  {
   "cell_type": "code",
   "execution_count": 16,
   "metadata": {},
   "outputs": [],
   "source": [
    "def show_images(files, titles = None, show_size = False):\n",
    "    cols = 4\n",
    "    f, ax = plt.subplots(nrows=int(np.ceil(len(files)/cols)),ncols=cols, figsize=(14,5))\n",
    "    ax = ax.flatten()\n",
    "    for i, file in enumerate(files):\n",
    "        if titles:\n",
    "            show_image(file, ax = ax[i], title = titles[i], show_size = show_size)\n",
    "        else:\n",
    "            show_image(file, ax = ax[i], title = None, show_size = show_size)\n",
    "    plt.show()"
   ]
  },
  {
   "cell_type": "code",
   "execution_count": 17,
   "metadata": {},
   "outputs": [
    {
     "data": {
      "image/png": "[encoded data removed]",
      "text/plain": [
       "<Figure size 1008x360 with 4 Axes>"
      ]
     },
     "metadata": {},
     "output_type": "display_data"
    }
   ],
   "source": [
    "show_images(raw_images[::1200],list(data[\"has_varroa\"].map({1:\"has_varroa\",0:\"healthy\"})[::1200]))"
   ]
  },
  {
   "cell_type": "markdown",
   "metadata": {},
   "source": [
    "These pixelated images will be digested and processed by the CNN to descern the bee's classfication. \n",
    "\n",
    "However, from quickly viewing just a handful of these images, a number of images have low resolution leading to inconsistent data quality. For example, the 2nd image above shows a bee with varroa, which appears as little more than a blob. \n",
    "\n",
    "Can a CNN accurately discern the difference between one blob and another? If it can, is it really learning to distinguish an infected bee from a healthy one, or is it learning to distinguish something else, like the background?\n",
    "\n",
    "Additionally, we must consider the varying image sizes, which must be standardized before feeding it through the convolutional layer. Cropping or rescaling the images will either lose data or distort the image reducing data and clarity."
   ]
  },
  {
   "cell_type": "markdown",
   "metadata": {},
   "source": [
    "### Discovering most frequent image shape\n",
    "\n",
    "Since the CNN will need a consistent format, resizing makes the most practical as a way to lose the least data.\n",
    "\n",
    "To discern the ideal width and height, we will find the most common (50% of the data) range of widths and heights and take the average. In this way, the majority of the data will be distorted the least."
   ]
  },
  {
   "cell_type": "code",
   "execution_count": 18,
   "metadata": {},
   "outputs": [],
   "source": [
    "def get_images_wh(images):\n",
    "    widths = []\n",
    "    heights = []\n",
    "    for image in images:\n",
    "        h, w, rbg = image.shape\n",
    "        widths.append(w)\n",
    "        heights.append(h)\n",
    "    return (widths, heights)"
   ]
  },
  {
   "cell_type": "code",
   "execution_count": 19,
   "metadata": {},
   "outputs": [],
   "source": [
    "def get_best_average(dist, cutoff = .5):\n",
    "    # requires single peak normal-like distribution\n",
    "    hist, bin_edges = np.histogram(dist, bins = 25);\n",
    "    total_hist = sum(hist)\n",
    "    hist_edges = [(vals[0]/total_hist,vals[1]) for vals in zip(hist, bin_edges)]\n",
    "    hist_edges.sort(key = lambda x: x[0])\n",
    "    lefts = []\n",
    "    while cutoff > 0:\n",
    "        vals = hist_edges.pop()\n",
    "        cutoff -= vals[0]\n",
    "        lefts.append(vals[1])\n",
    "    diff = np.abs(np.diff(lefts)[0]) # same diff b/c of bins\n",
    "    leftmost = min(lefts)\n",
    "    rightmost = max(lefts) + diff\n",
    "    return int(np.round(np.mean([rightmost,leftmost])))"
   ]
  },
  {
   "cell_type": "code",
   "execution_count": 20,
   "metadata": {},
   "outputs": [],
   "source": [
    "wh = get_images_wh(raw_images)"
   ]
  },
  {
   "cell_type": "code",
   "execution_count": 21,
   "metadata": {},
   "outputs": [
    {
     "data": {
      "image/png": "[encoded data removed]",
      "text/plain": [
       "<Figure size 432x288 with 1 Axes>"
      ]
     },
     "metadata": {
      "needs_background": "light"
     },
     "output_type": "display_data"
    }
   ],
   "source": [
    "plt.title(\"Widths\")\n",
    "plt.hist(wh[0], bins = 25);"
   ]
  },
  {
   "cell_type": "code",
   "execution_count": 22,
   "metadata": {},
   "outputs": [
    {
     "data": {
      "image/png": "[encoded data removed]",
      "text/plain": [
       "<Figure size 432x288 with 1 Axes>"
      ]
     },
     "metadata": {
      "needs_background": "light"
     },
     "output_type": "display_data"
    }
   ],
   "source": [
    "plt.title(\"Heights\")\n",
    "plt.hist(wh[1], bins = 25);"
   ]
  },
  {
   "cell_type": "code",
   "execution_count": 23,
   "metadata": {},
   "outputs": [
    {
     "data": {
      "text/plain": [
       "(54, 50)"
      ]
     },
     "execution_count": 23,
     "metadata": {},
     "output_type": "execute_result"
    }
   ],
   "source": [
    "IDEAL_WIDTH, IDEAL_HEIGHT = get_best_average(wh[0]), get_best_average(wh[1])\n",
    "IDEAL_WIDTH, IDEAL_HEIGHT"
   ]
  },
  {
   "cell_type": "markdown",
   "metadata": {},
   "source": [
    "Resizing images to 54x50 will do the least to alter the original image for the majority of the data."
   ]
  },
  {
   "cell_type": "markdown",
   "metadata": {},
   "source": [
    "## ImageHandler Class\n",
    "\n",
    "It was inconvenient working with image data directly, especially when wanting to transform images for both modeling and visualization.\n",
    "\n",
    "The `ImageHandler` class was created to simplify working with image data, while also allowing for intuitive transformations in a consolidated way.\n",
    "\n",
    "Documentation can be [found here](./ImageHandler_doc.ipynb), and the source code can be [found here](./image_handler/ImageHandler.py)."
   ]
  },
  {
   "cell_type": "code",
   "execution_count": 24,
   "metadata": {},
   "outputs": [],
   "source": [
    "from image_handler import ImageHandler"
   ]
  },
  {
   "cell_type": "markdown",
   "metadata": {},
   "source": [
    "### Resizing images"
   ]
  },
  {
   "cell_type": "code",
   "execution_count": 25,
   "metadata": {},
   "outputs": [],
   "source": [
    "resizing = (IDEAL_WIDTH, IDEAL_HEIGHT, 3)\n",
    "\n",
    "sample_img_store = ImageHandler(raw_images[:201]).resize(resizing)"
   ]
  },
  {
   "cell_type": "code",
   "execution_count": 26,
   "metadata": {},
   "outputs": [
    {
     "data": {
      "image/png": "[encoded data removed]",
      "text/plain": [
       "<Figure size 1008x360 with 4 Axes>"
      ]
     },
     "metadata": {
      "needs_background": "light"
     },
     "output_type": "display_data"
    }
   ],
   "source": [
    "old_image_1 = raw_images[100]\n",
    "new_image_1 = sample_img_store.images_for_display[100]\n",
    "\n",
    "old_image_2 = raw_images[200]\n",
    "new_image_2 = sample_img_store.images_for_display[200]\n",
    "show_images(\n",
    "    [old_image_1, new_image_1, old_image_2, new_image_2], \n",
    "    titles = [\"Original #1 (tall)\", \"Resized #1\", \"Original #2 (wide)\", \"Resized #2\"], \n",
    "    show_size = True\n",
    ")"
   ]
  },
  {
   "cell_type": "markdown",
   "metadata": {},
   "source": [
    "For the most part, the images are not terribly perturbed by resizing them to a standard width and height. Of course, the resizing process must be taken into consideration when interpreting the results. This also calls into question of the applicability of the model to real world images, which may require more nuanced methodd for standardizing original images."
   ]
  },
  {
   "cell_type": "markdown",
   "metadata": {},
   "source": [
    "## gridSearchCNN + helper functions\n",
    "Neural Networks are fitted using multiple hyperparameters. As such, it can prove difficult to tune and optimize a model.\n",
    "\n",
    "The `gridSearchCNN`, and a number of other helper functions, were created to programmatically optimize this tuning process."
   ]
  },
  {
   "cell_type": "code",
   "execution_count": 79,
   "metadata": {},
   "outputs": [],
   "source": [
    "def build_model(params = {}, X_train = None, X_test = None, y_train = None, y_test = None, load_weights = None):\n",
    "    '''Returns a fitted convolutional neural network with the given parameters and data.'''\n",
    "    kernel_size = 3\n",
    "    dropout = .5\n",
    "    activation_func = \"relu\"\n",
    "    input_shape = X_train[0].shape # deducing shape from input\n",
    "    \n",
    "    conv__filters_1 = params.get('conv__filters_1') or 32\n",
    "    conv__filters_2 = params.get('conv__filters_2') or 16\n",
    "    density_units_1 = params.get('density_units_1') or 32\n",
    "    density_units_2 = params.get('density_units_2') or 32\n",
    "    batch_size      = params.get('batch_size') or 64\n",
    "    epochs          = params.get('epochs') or 8\n",
    "    \n",
    "    # instantiating model\n",
    "    model = Sequential([\n",
    "        Conv2D(\n",
    "            filters = conv__filters_1, \n",
    "            kernel_size = kernel_size, \n",
    "            activation  = activation_func, \n",
    "            input_shape = input_shape\n",
    "        ),\n",
    "        MaxPooling2D(pool_size=(2,2)),\n",
    "        Conv2D(filters = conv__filters_2, kernel_size = kernel_size, activation=activation_func),\n",
    "        MaxPooling2D(pool_size=(2,2)),\n",
    "        Flatten(),\n",
    "        Dense(density_units_1, activation=activation_func),\n",
    "        Dropout(dropout),\n",
    "        Dense(density_units_2, activation=activation_func),\n",
    "        Dropout(dropout),\n",
    "        Dense(1, activation='sigmoid')\n",
    "    ])\n",
    "    \n",
    "    # compiling model\n",
    "    model.compile(\n",
    "        loss      = 'binary_crossentropy',\n",
    "        optimizer = 'adam',\n",
    "        metrics   = ['binary_accuracy']\n",
    "    )\n",
    "    \n",
    "    # loading previous model weights\n",
    "    if load_weights:\n",
    "        model.load_weights(load_weights)\n",
    "        return model\n",
    "    \n",
    "    # fitting model\n",
    "    model.fit(X_train,\n",
    "        y_train,\n",
    "        batch_size = batch_size,\n",
    "        validation_data = (X_test, y_test),\n",
    "        epochs=epochs,\n",
    "        verbose=0\n",
    "    )\n",
    "    return model"
   ]
  },
  {
   "cell_type": "code",
   "execution_count": 28,
   "metadata": {},
   "outputs": [],
   "source": [
    "def permutate_params(grid_params):\n",
    "    '''Returns a list of all combinations of unique parameters from the given dictionary'''\n",
    "    out = [{}]\n",
    "    for param_name, param_list in grid_params.items():\n",
    "        if len(param_list) == 1:\n",
    "            for item in out:\n",
    "                item[param_name] = param_list[0]\n",
    "        else:\n",
    "            temp_out = []\n",
    "            for param_val in param_list:\n",
    "                for item in out:\n",
    "                    cloned_item = item.copy()\n",
    "                    cloned_item[param_name] = param_val\n",
    "                    temp_out.append(cloned_item)\n",
    "            out = temp_out\n",
    "    return out"
   ]
  },
  {
   "cell_type": "code",
   "execution_count": 29,
   "metadata": {},
   "outputs": [],
   "source": [
    "def gridSearchCNN(X, y, grid_params, random_state = None):\n",
    "    '''Iteratively discovers and then returns an optimized convolutional neural network with the given parameters'''\n",
    "    # train/test split\n",
    "    X_train, X_test, y_train, y_test = train_test_split(X, y, test_size = .25, stratify = y, random_state = random_state)\n",
    "    \n",
    "    all_params = permutate_params(grid_params) # list of all parameter combinations\n",
    "    \n",
    "    best_model = None\n",
    "    best_score = 0.0 # no accuracy to start\n",
    "    best_params = None\n",
    "    \n",
    "    for params in all_params:\n",
    "        model = build_model(params, X_train, X_test, y_train, y_test)\n",
    "        \n",
    "        preds = model.predict_classes(X_test)\n",
    "        acc = accuracy_score(y_test, preds)\n",
    "        \n",
    "        if acc > best_score:\n",
    "            print(\"***Good Accurary found: {:.2%}***\".format(acc))\n",
    "            best_score = acc\n",
    "            best_model = model\n",
    "            best_params = params\n",
    "            \n",
    "    return {\n",
    "        \"best_model\": best_model,\n",
    "        \"best_score\": best_score,\n",
    "        \"best_params\": best_params\n",
    "    }\n",
    "    "
   ]
  },
  {
   "cell_type": "code",
   "execution_count": 30,
   "metadata": {},
   "outputs": [],
   "source": [
    "def conf_matrix_stats(y_test, preds):\n",
    "    ''' Return key confusion matrix metrics given true and predicted values'''\n",
    "    cm = confusion_matrix(y_test, preds)\n",
    "    TP, FP, FN, TN, = cm[1,1], cm[0,1], cm[1,0], cm[0,0]\n",
    "    total = (TP + FP + FN + TN)\n",
    "    acc = (TP + TN ) / total\n",
    "    miss = 1 - acc\n",
    "    sens = TP / (TP + FN)\n",
    "    spec = TN / (TN + FP)\n",
    "    prec = TP / (TP + FP)\n",
    "    return {\"accuracy\": acc, \"miss_rate\": miss, \"sensitivity\": sens, \"specification\": spec, \"precision\": prec}"
   ]
  },
  {
   "cell_type": "markdown",
   "metadata": {},
   "source": [
    "## Model Exploration\n",
    "Image data can be transformed in a variety of ways. Depending on the transformation a better model can be discovered. As such, the following transformations are of interest:\n",
    "\n",
    "1. No transformation (original dataset)\n",
    "2. Rotated and Mirrored transformation\n",
    "3. Inverted transformation + original dataset\n",
    "4. Grayscale transformation\n",
    "5. Rotated and Mirrored + Inverted + Grayscale transformation\n",
    "\n",
    "It is important to note, the image data must always be standardized to the same width and height first. A normalization transformation is also applied as part of this standardizing process.\n",
    "\n",
    "> \"Normalizing the input of your network is a well-established technique for improving the convergence properties of a network\"\n",
    "> \\- Jeremy Jordan\n",
    "\n",
    "[source](https://www.jeremyjordan.me/batch-normalization/)\n",
    "\n",
    "The following visualization functions will be used to show images of the false positive and false negatives based on model results."
   ]
  },
  {
   "cell_type": "code",
   "execution_count": 31,
   "metadata": {},
   "outputs": [],
   "source": [
    "def show_results(images, shapes, title, ncols = 4, height = 2):\n",
    "    nrows = int(np.ceil(len(images)/ncols))\n",
    "    f, ax = plt.subplots(nrows=nrows,ncols=ncols, figsize=(10,nrows * height))\n",
    "    ax = ax.flatten()\n",
    "    for i, image in enumerate(images):\n",
    "        _title = f\"Orig. size: {shapes[i][0]}x{shapes[i][1]}\\n{title}\"\n",
    "        show_image(image, ax = ax[i], title = _title)\n",
    "    plt.tight_layout()\n",
    "    plt.show()"
   ]
  },
  {
   "cell_type": "markdown",
   "metadata": {},
   "source": [
    "## No transformation (original dataset)\n",
    "By using the original (standardized) images, we can effectively set a basis for comparison for the set of transformations we're interested in."
   ]
  },
  {
   "cell_type": "markdown",
   "metadata": {},
   "source": [
    "### Model Preparation"
   ]
  },
  {
   "cell_type": "code",
   "execution_count": 58,
   "metadata": {},
   "outputs": [],
   "source": [
    "raw_images = get_image_data(data[\"file\"].values)\n",
    "img_store = ImageHandler(raw_images).resize(resizing).normalize()\n",
    "\n",
    "X = img_store.images\n",
    "\n",
    "y = data[\"has_varroa\"].iloc[img_store.index]"
   ]
  },
  {
   "cell_type": "code",
   "execution_count": 59,
   "metadata": {},
   "outputs": [
    {
     "name": "stdout",
     "output_type": "stream",
     "text": [
      "***Good Accurary found: 99.64%***\n"
     ]
    }
   ],
   "source": [
    "grid_params = {\n",
    "    \"conv__filters_1\" : [32],\n",
    "    \"conv__filters_2\" : [16],\n",
    "    \"density_units_1\" : [124],\n",
    "    \"density_units_2\" : [16],\n",
    "    \"epochs\" : [16]\n",
    "}\n",
    "best_original_model = gridSearchCNN(X, y, grid_params, random_state=random_state)"
   ]
  },
  {
   "cell_type": "code",
   "execution_count": 72,
   "metadata": {},
   "outputs": [
    {
     "data": {
      "text/plain": [
       " 0    0.995265\n",
       "-1    0.003608\n",
       " 1    0.001127\n",
       "Name: has_varroa, dtype: float64"
      ]
     },
     "execution_count": 72,
     "metadata": {},
     "output_type": "execute_result"
    }
   ],
   "source": [
    "predictions = best_original_model[\"best_model\"].predict_classes(X)\n",
    "results = predictions.flatten() - y\n",
    "results.value_counts(normalize = True)"
   ]
  },
  {
   "cell_type": "markdown",
   "metadata": {},
   "source": [
    "### Evaluating Model Errors"
   ]
  },
  {
   "cell_type": "markdown",
   "metadata": {},
   "source": [
    "#### False positives"
   ]
  },
  {
   "cell_type": "code",
   "execution_count": 73,
   "metadata": {},
   "outputs": [
    {
     "data": {
      "image/png": "[encoded data removed]",
      "text/plain": [
       "<Figure size 720x576 with 16 Axes>"
      ]
     },
     "metadata": {},
     "output_type": "display_data"
    }
   ],
   "source": [
    "false_pos_mask = [i for i,result in enumerate(results) if result == -1]\n",
    "false_positives = img_store.images_for_display[false_pos_mask]\n",
    "original_false_pos_shapes = [image.shape for image in raw_images[false_pos_mask]]\n",
    "show_results(false_positives, original_false_pos_shapes, \"false pos.\")"
   ]
  },
  {
   "cell_type": "markdown",
   "metadata": {},
   "source": [
    "We can see these false positives have some common issues that are likely throwing off the neural network.\n",
    "\n",
    "1. __Rescaling artifacts__ - the rescaling step may have drastically altered the original image\n",
    "2. __Orientation__ - many of the bees pictured here are upside-down. This may be remedied by retraining the network using rotated versions of the training data.\n",
    "3. __Patterned background__ - a striped pattern is a signature part of the bee abdomen. Some of these falsely classified images could have been the result of the network mistaking the background for a larger bee with a \"smaller\" mite on it.\n",
    "4. __Shadows__ - a number of these images display prominent shadows, which may have confused the network."
   ]
  },
  {
   "cell_type": "markdown",
   "metadata": {},
   "source": [
    "#### False negatives"
   ]
  },
  {
   "cell_type": "code",
   "execution_count": 74,
   "metadata": {},
   "outputs": [
    {
     "data": {
      "image/png": "[encoded data removed]",
      "text/plain": [
       "<Figure size 720x288 with 8 Axes>"
      ]
     },
     "metadata": {
      "needs_background": "light"
     },
     "output_type": "display_data"
    }
   ],
   "source": [
    "false_neg_mask = [i for i,result in enumerate(results) if result == 1]\n",
    "false_negatives = img_store.images_for_display[false_neg_mask]\n",
    "original_false_neg_shapes = [image.shape for image in raw_images[false_neg_mask]]\n",
    "show_results(false_negatives, original_false_neg_shapes, \"false neg.\")"
   ]
  },
  {
   "cell_type": "markdown",
   "metadata": {},
   "source": [
    "We can see these false negatives show some common issues as well:\n",
    "\n",
    "1. __Shadows__ - like before, a number of these images display prominent shadows, which may have confused the network.\n",
    "2. __Partials__ - many of these images show either more than 1 bee or only parts of bees. This could easily confuse the network, as these kinds of images are essentially incomplete."
   ]
  },
  {
   "cell_type": "markdown",
   "metadata": {},
   "source": [
    "### Saving/Loading model weights"
   ]
  },
  {
   "cell_type": "code",
   "execution_count": 77,
   "metadata": {},
   "outputs": [],
   "source": [
    "best_original_model[\"best_model\"].save_weights('orig.h5')"
   ]
  },
  {
   "cell_type": "code",
   "execution_count": 76,
   "metadata": {},
   "outputs": [],
   "source": [
    "# model.load_weights('orig.h5')"
   ]
  },
  {
   "cell_type": "markdown",
   "metadata": {},
   "source": [
    "## Rotated and Mirrored transformation"
   ]
  },
  {
   "cell_type": "code",
   "execution_count": 46,
   "metadata": {},
   "outputs": [],
   "source": [
    "raw_images = get_image_data(data[\"file\"].values)\n",
    "rotated_img_store = ImageHandler(raw_images).resize(resizing).normalize().rotate()\n",
    "\n",
    "X = rotated_img_store.images\n",
    "\n",
    "y = data[\"has_varroa\"].iloc[rotated_img_store.index]"
   ]
  },
  {
   "cell_type": "code",
   "execution_count": 50,
   "metadata": {},
   "outputs": [
    {
     "name": "stdout",
     "output_type": "stream",
     "text": [
      "***Good Accurary found: 86.74%***\n"
     ]
    },
    {
     "ename": "KeyboardInterrupt",
     "evalue": "",
     "output_type": "error",
     "traceback": [
      "\u001b[1;31m---------------------------------------------------------------------------\u001b[0m",
      "\u001b[1;31mKeyboardInterrupt\u001b[0m                         Traceback (most recent call last)",
      "\u001b[1;32m<ipython-input-50-e8e79a325916>\u001b[0m in \u001b[0;36m<module>\u001b[1;34m\u001b[0m\n\u001b[0;32m      5\u001b[0m     \u001b[1;34m\"density_units_2\"\u001b[0m \u001b[1;33m:\u001b[0m \u001b[1;33m[\u001b[0m\u001b[1;36m16\u001b[0m\u001b[1;33m,\u001b[0m\u001b[1;36m32\u001b[0m\u001b[1;33m,\u001b[0m\u001b[1;36m64\u001b[0m\u001b[1;33m]\u001b[0m\u001b[1;33m\u001b[0m\u001b[1;33m\u001b[0m\u001b[0m\n\u001b[0;32m      6\u001b[0m }\n\u001b[1;32m----> 7\u001b[1;33m \u001b[0mbest_rotated_model\u001b[0m \u001b[1;33m=\u001b[0m \u001b[0mgridSearchCNN\u001b[0m\u001b[1;33m(\u001b[0m\u001b[0mX\u001b[0m\u001b[1;33m,\u001b[0m \u001b[0my\u001b[0m\u001b[1;33m,\u001b[0m \u001b[0mgrid_params\u001b[0m\u001b[1;33m,\u001b[0m \u001b[0mrandom_state\u001b[0m\u001b[1;33m=\u001b[0m\u001b[0mrandom_state\u001b[0m\u001b[1;33m)\u001b[0m\u001b[1;33m\u001b[0m\u001b[1;33m\u001b[0m\u001b[0m\n\u001b[0m",
      "\u001b[1;32m<ipython-input-29-be1ea0b3abcc>\u001b[0m in \u001b[0;36mgridSearchCNN\u001b[1;34m(X, y, grid_params, random_state)\u001b[0m\n\u001b[0;32m     11\u001b[0m \u001b[1;33m\u001b[0m\u001b[0m\n\u001b[0;32m     12\u001b[0m     \u001b[1;32mfor\u001b[0m \u001b[0mparams\u001b[0m \u001b[1;32min\u001b[0m \u001b[0mall_params\u001b[0m\u001b[1;33m:\u001b[0m\u001b[1;33m\u001b[0m\u001b[1;33m\u001b[0m\u001b[0m\n\u001b[1;32m---> 13\u001b[1;33m         \u001b[0mmodel\u001b[0m \u001b[1;33m=\u001b[0m \u001b[0mbuild_model\u001b[0m\u001b[1;33m(\u001b[0m\u001b[0mparams\u001b[0m\u001b[1;33m,\u001b[0m \u001b[0mX_train\u001b[0m\u001b[1;33m,\u001b[0m \u001b[0mX_test\u001b[0m\u001b[1;33m,\u001b[0m \u001b[0my_train\u001b[0m\u001b[1;33m,\u001b[0m \u001b[0my_test\u001b[0m\u001b[1;33m)\u001b[0m\u001b[1;33m\u001b[0m\u001b[1;33m\u001b[0m\u001b[0m\n\u001b[0m\u001b[0;32m     14\u001b[0m \u001b[1;33m\u001b[0m\u001b[0m\n\u001b[0;32m     15\u001b[0m         \u001b[0mpreds\u001b[0m \u001b[1;33m=\u001b[0m \u001b[0mmodel\u001b[0m\u001b[1;33m.\u001b[0m\u001b[0mpredict_classes\u001b[0m\u001b[1;33m(\u001b[0m\u001b[0mX_test\u001b[0m\u001b[1;33m)\u001b[0m\u001b[1;33m\u001b[0m\u001b[1;33m\u001b[0m\u001b[0m\n",
      "\u001b[1;32m<ipython-input-27-643c88f61642>\u001b[0m in \u001b[0;36mbuild_model\u001b[1;34m(params, X_train, X_test, y_train, y_test)\u001b[0m\n\u001b[0;32m     45\u001b[0m         \u001b[0mvalidation_data\u001b[0m \u001b[1;33m=\u001b[0m \u001b[1;33m(\u001b[0m\u001b[0mX_test\u001b[0m\u001b[1;33m,\u001b[0m \u001b[0my_test\u001b[0m\u001b[1;33m)\u001b[0m\u001b[1;33m,\u001b[0m\u001b[1;33m\u001b[0m\u001b[1;33m\u001b[0m\u001b[0m\n\u001b[0;32m     46\u001b[0m         \u001b[0mepochs\u001b[0m\u001b[1;33m=\u001b[0m\u001b[0mepochs\u001b[0m\u001b[1;33m,\u001b[0m\u001b[1;33m\u001b[0m\u001b[1;33m\u001b[0m\u001b[0m\n\u001b[1;32m---> 47\u001b[1;33m         \u001b[0mverbose\u001b[0m\u001b[1;33m=\u001b[0m\u001b[1;36m0\u001b[0m\u001b[1;33m\u001b[0m\u001b[1;33m\u001b[0m\u001b[0m\n\u001b[0m\u001b[0;32m     48\u001b[0m     )\n\u001b[0;32m     49\u001b[0m     \u001b[1;32mreturn\u001b[0m \u001b[0mmodel\u001b[0m\u001b[1;33m\u001b[0m\u001b[1;33m\u001b[0m\u001b[0m\n",
      "\u001b[1;32m~\\Anaconda3\\lib\\site-packages\\keras\\engine\\training.py\u001b[0m in \u001b[0;36mfit\u001b[1;34m(self, x, y, batch_size, epochs, verbose, callbacks, validation_split, validation_data, shuffle, class_weight, sample_weight, initial_epoch, steps_per_epoch, validation_steps, **kwargs)\u001b[0m\n\u001b[0;32m   1037\u001b[0m                                         \u001b[0minitial_epoch\u001b[0m\u001b[1;33m=\u001b[0m\u001b[0minitial_epoch\u001b[0m\u001b[1;33m,\u001b[0m\u001b[1;33m\u001b[0m\u001b[1;33m\u001b[0m\u001b[0m\n\u001b[0;32m   1038\u001b[0m                                         \u001b[0msteps_per_epoch\u001b[0m\u001b[1;33m=\u001b[0m\u001b[0msteps_per_epoch\u001b[0m\u001b[1;33m,\u001b[0m\u001b[1;33m\u001b[0m\u001b[1;33m\u001b[0m\u001b[0m\n\u001b[1;32m-> 1039\u001b[1;33m                                         validation_steps=validation_steps)\n\u001b[0m\u001b[0;32m   1040\u001b[0m \u001b[1;33m\u001b[0m\u001b[0m\n\u001b[0;32m   1041\u001b[0m     def evaluate(self, x=None, y=None,\n",
      "\u001b[1;32m~\\Anaconda3\\lib\\site-packages\\keras\\engine\\training_arrays.py\u001b[0m in \u001b[0;36mfit_loop\u001b[1;34m(model, f, ins, out_labels, batch_size, epochs, verbose, callbacks, val_f, val_ins, shuffle, callback_metrics, initial_epoch, steps_per_epoch, validation_steps)\u001b[0m\n\u001b[0;32m    197\u001b[0m                     \u001b[0mins_batch\u001b[0m\u001b[1;33m[\u001b[0m\u001b[0mi\u001b[0m\u001b[1;33m]\u001b[0m \u001b[1;33m=\u001b[0m \u001b[0mins_batch\u001b[0m\u001b[1;33m[\u001b[0m\u001b[0mi\u001b[0m\u001b[1;33m]\u001b[0m\u001b[1;33m.\u001b[0m\u001b[0mtoarray\u001b[0m\u001b[1;33m(\u001b[0m\u001b[1;33m)\u001b[0m\u001b[1;33m\u001b[0m\u001b[1;33m\u001b[0m\u001b[0m\n\u001b[0;32m    198\u001b[0m \u001b[1;33m\u001b[0m\u001b[0m\n\u001b[1;32m--> 199\u001b[1;33m                 \u001b[0mouts\u001b[0m \u001b[1;33m=\u001b[0m \u001b[0mf\u001b[0m\u001b[1;33m(\u001b[0m\u001b[0mins_batch\u001b[0m\u001b[1;33m)\u001b[0m\u001b[1;33m\u001b[0m\u001b[1;33m\u001b[0m\u001b[0m\n\u001b[0m\u001b[0;32m    200\u001b[0m                 \u001b[0mouts\u001b[0m \u001b[1;33m=\u001b[0m \u001b[0mto_list\u001b[0m\u001b[1;33m(\u001b[0m\u001b[0mouts\u001b[0m\u001b[1;33m)\u001b[0m\u001b[1;33m\u001b[0m\u001b[1;33m\u001b[0m\u001b[0m\n\u001b[0;32m    201\u001b[0m                 \u001b[1;32mfor\u001b[0m \u001b[0ml\u001b[0m\u001b[1;33m,\u001b[0m \u001b[0mo\u001b[0m \u001b[1;32min\u001b[0m \u001b[0mzip\u001b[0m\u001b[1;33m(\u001b[0m\u001b[0mout_labels\u001b[0m\u001b[1;33m,\u001b[0m \u001b[0mouts\u001b[0m\u001b[1;33m)\u001b[0m\u001b[1;33m:\u001b[0m\u001b[1;33m\u001b[0m\u001b[1;33m\u001b[0m\u001b[0m\n",
      "\u001b[1;32m~\\Anaconda3\\lib\\site-packages\\keras\\backend\\tensorflow_backend.py\u001b[0m in \u001b[0;36m__call__\u001b[1;34m(self, inputs)\u001b[0m\n\u001b[0;32m   2713\u001b[0m                 \u001b[1;32mreturn\u001b[0m \u001b[0mself\u001b[0m\u001b[1;33m.\u001b[0m\u001b[0m_legacy_call\u001b[0m\u001b[1;33m(\u001b[0m\u001b[0minputs\u001b[0m\u001b[1;33m)\u001b[0m\u001b[1;33m\u001b[0m\u001b[1;33m\u001b[0m\u001b[0m\n\u001b[0;32m   2714\u001b[0m \u001b[1;33m\u001b[0m\u001b[0m\n\u001b[1;32m-> 2715\u001b[1;33m             \u001b[1;32mreturn\u001b[0m \u001b[0mself\u001b[0m\u001b[1;33m.\u001b[0m\u001b[0m_call\u001b[0m\u001b[1;33m(\u001b[0m\u001b[0minputs\u001b[0m\u001b[1;33m)\u001b[0m\u001b[1;33m\u001b[0m\u001b[1;33m\u001b[0m\u001b[0m\n\u001b[0m\u001b[0;32m   2716\u001b[0m         \u001b[1;32melse\u001b[0m\u001b[1;33m:\u001b[0m\u001b[1;33m\u001b[0m\u001b[1;33m\u001b[0m\u001b[0m\n\u001b[0;32m   2717\u001b[0m             \u001b[1;32mif\u001b[0m \u001b[0mpy_any\u001b[0m\u001b[1;33m(\u001b[0m\u001b[0mis_tensor\u001b[0m\u001b[1;33m(\u001b[0m\u001b[0mx\u001b[0m\u001b[1;33m)\u001b[0m \u001b[1;32mfor\u001b[0m \u001b[0mx\u001b[0m \u001b[1;32min\u001b[0m \u001b[0minputs\u001b[0m\u001b[1;33m)\u001b[0m\u001b[1;33m:\u001b[0m\u001b[1;33m\u001b[0m\u001b[1;33m\u001b[0m\u001b[0m\n",
      "\u001b[1;32m~\\Anaconda3\\lib\\site-packages\\keras\\backend\\tensorflow_backend.py\u001b[0m in \u001b[0;36m_call\u001b[1;34m(self, inputs)\u001b[0m\n\u001b[0;32m   2673\u001b[0m             \u001b[0mfetched\u001b[0m \u001b[1;33m=\u001b[0m \u001b[0mself\u001b[0m\u001b[1;33m.\u001b[0m\u001b[0m_callable_fn\u001b[0m\u001b[1;33m(\u001b[0m\u001b[1;33m*\u001b[0m\u001b[0marray_vals\u001b[0m\u001b[1;33m,\u001b[0m \u001b[0mrun_metadata\u001b[0m\u001b[1;33m=\u001b[0m\u001b[0mself\u001b[0m\u001b[1;33m.\u001b[0m\u001b[0mrun_metadata\u001b[0m\u001b[1;33m)\u001b[0m\u001b[1;33m\u001b[0m\u001b[1;33m\u001b[0m\u001b[0m\n\u001b[0;32m   2674\u001b[0m         \u001b[1;32melse\u001b[0m\u001b[1;33m:\u001b[0m\u001b[1;33m\u001b[0m\u001b[1;33m\u001b[0m\u001b[0m\n\u001b[1;32m-> 2675\u001b[1;33m             \u001b[0mfetched\u001b[0m \u001b[1;33m=\u001b[0m \u001b[0mself\u001b[0m\u001b[1;33m.\u001b[0m\u001b[0m_callable_fn\u001b[0m\u001b[1;33m(\u001b[0m\u001b[1;33m*\u001b[0m\u001b[0marray_vals\u001b[0m\u001b[1;33m)\u001b[0m\u001b[1;33m\u001b[0m\u001b[1;33m\u001b[0m\u001b[0m\n\u001b[0m\u001b[0;32m   2676\u001b[0m         \u001b[1;32mreturn\u001b[0m \u001b[0mfetched\u001b[0m\u001b[1;33m[\u001b[0m\u001b[1;33m:\u001b[0m\u001b[0mlen\u001b[0m\u001b[1;33m(\u001b[0m\u001b[0mself\u001b[0m\u001b[1;33m.\u001b[0m\u001b[0moutputs\u001b[0m\u001b[1;33m)\u001b[0m\u001b[1;33m]\u001b[0m\u001b[1;33m\u001b[0m\u001b[1;33m\u001b[0m\u001b[0m\n\u001b[0;32m   2677\u001b[0m \u001b[1;33m\u001b[0m\u001b[0m\n",
      "\u001b[1;32m~\\Anaconda3\\lib\\site-packages\\tensorflow\\python\\client\\session.py\u001b[0m in \u001b[0;36m__call__\u001b[1;34m(self, *args, **kwargs)\u001b[0m\n\u001b[0;32m   1456\u001b[0m         ret = tf_session.TF_SessionRunCallable(self._session._session,\n\u001b[0;32m   1457\u001b[0m                                                \u001b[0mself\u001b[0m\u001b[1;33m.\u001b[0m\u001b[0m_handle\u001b[0m\u001b[1;33m,\u001b[0m \u001b[0margs\u001b[0m\u001b[1;33m,\u001b[0m\u001b[1;33m\u001b[0m\u001b[1;33m\u001b[0m\u001b[0m\n\u001b[1;32m-> 1458\u001b[1;33m                                                run_metadata_ptr)\n\u001b[0m\u001b[0;32m   1459\u001b[0m         \u001b[1;32mif\u001b[0m \u001b[0mrun_metadata\u001b[0m\u001b[1;33m:\u001b[0m\u001b[1;33m\u001b[0m\u001b[1;33m\u001b[0m\u001b[0m\n\u001b[0;32m   1460\u001b[0m           \u001b[0mproto_data\u001b[0m \u001b[1;33m=\u001b[0m \u001b[0mtf_session\u001b[0m\u001b[1;33m.\u001b[0m\u001b[0mTF_GetBuffer\u001b[0m\u001b[1;33m(\u001b[0m\u001b[0mrun_metadata_ptr\u001b[0m\u001b[1;33m)\u001b[0m\u001b[1;33m\u001b[0m\u001b[1;33m\u001b[0m\u001b[0m\n",
      "\u001b[1;31mKeyboardInterrupt\u001b[0m: "
     ]
    }
   ],
   "source": [
    "grid_params = {\n",
    "    \"conv__filters_1\" : [32],\n",
    "    \"conv__filters_2\" : [16],\n",
    "    \"density_units_1\" : [124],\n",
    "    \"density_units_2\" : [32]\n",
    "}\n",
    "best_rotated_model = gridSearchCNN(X, y, grid_params, random_state=random_state)"
   ]
  },
  {
   "cell_type": "markdown",
   "metadata": {},
   "source": [
    "## Inverted transformation + original dataset"
   ]
  },
  {
   "cell_type": "code",
   "execution_count": 53,
   "metadata": {},
   "outputs": [],
   "source": [
    "raw_images = get_image_data(data[\"file\"].values)\n",
    "\n",
    "inverted_img_store = ImageHandler(raw_images).resize(resizing).normalize().invert()\n",
    "\n",
    "X = np.concatenate([inverted_img_store.images, ImageHandler(get_image_data(data[\"file\"].values)).resize(resizing).normalize().images])\n",
    "\n",
    "y = pd.concat([data[\"has_varroa\"], data[\"has_varroa\"]])"
   ]
  },
  {
   "cell_type": "code",
   "execution_count": 54,
   "metadata": {},
   "outputs": [
    {
     "name": "stdout",
     "output_type": "stream",
     "text": [
      "***Good Accurary found: 96.21%***\n",
      "***Good Accurary found: 96.89%***\n",
      "***Good Accurary found: 97.70%***\n",
      "***Good Accurary found: 97.75%***\n",
      "***Good Accurary found: 98.06%***\n",
      "***Good Accurary found: 98.60%***\n"
     ]
    }
   ],
   "source": [
    "grid_params = {\n",
    "    \"conv__filters_1\" : [16],\n",
    "    \"conv__filters_2\" : [16],\n",
    "    \"density_units_1\" : [124],\n",
    "    \"density_units_2\" : [32]\n",
    "}\n",
    "best_inv_model = gridSearchCNN(X, y, grid_params, random_state=random_state)"
   ]
  },
  {
   "cell_type": "code",
   "execution_count": 56,
   "metadata": {},
   "outputs": [
    {
     "data": {
      "text/plain": [
       "0.9860234445446348"
      ]
     },
     "execution_count": 56,
     "metadata": {},
     "output_type": "execute_result"
    }
   ],
   "source": [
    "best_inv_model[\"best_score\"]"
   ]
  },
  {
   "cell_type": "code",
   "execution_count": 57,
   "metadata": {},
   "outputs": [
    {
     "data": {
      "text/plain": [
       "{'best_model': <keras.engine.sequential.Sequential at 0x21910ebfcc0>,\n",
       " 'best_score': 0.9860234445446348,\n",
       " 'best_params': {'conv__filters_1': 16,\n",
       "  'conv__filters_2': 16,\n",
       "  'density_units_1': 124,\n",
       "  'density_units_2': 32}}"
      ]
     },
     "execution_count": 57,
     "metadata": {},
     "output_type": "execute_result"
    }
   ],
   "source": [
    "best_rot_inv_model"
   ]
  },
  {
   "cell_type": "markdown",
   "metadata": {},
   "source": [
    "## Grayscale transformation"
   ]
  },
  {
   "cell_type": "code",
   "execution_count": 36,
   "metadata": {},
   "outputs": [],
   "source": [
    "raw_images = get_image_data(data[\"file\"].values)\n",
    "grayscale_store = ImageHandler(raw_images).resize(resizing).normalize().grayscale()\n",
    "\n",
    "X = grayscale_store.images\n",
    "\n",
    "y = data[\"has_varroa\"].iloc[grayscale_store.index]"
   ]
  },
  {
   "cell_type": "code",
   "execution_count": 37,
   "metadata": {},
   "outputs": [
    {
     "name": "stderr",
     "output_type": "stream",
     "text": [
      "WARNING: Logging before flag parsing goes to stderr.\n",
      "W0812 15:41:17.872095 10284 deprecation_wrapper.py:119] From C:\\Users\\rick_c137\\Anaconda3\\lib\\site-packages\\keras\\backend\\tensorflow_backend.py:74: The name tf.get_default_graph is deprecated. Please use tf.compat.v1.get_default_graph instead.\n",
      "\n",
      "W0812 15:41:17.890024 10284 deprecation_wrapper.py:119] From C:\\Users\\rick_c137\\Anaconda3\\lib\\site-packages\\keras\\backend\\tensorflow_backend.py:517: The name tf.placeholder is deprecated. Please use tf.compat.v1.placeholder instead.\n",
      "\n",
      "W0812 15:41:17.891993 10284 deprecation_wrapper.py:119] From C:\\Users\\rick_c137\\Anaconda3\\lib\\site-packages\\keras\\backend\\tensorflow_backend.py:4138: The name tf.random_uniform is deprecated. Please use tf.random.uniform instead.\n",
      "\n",
      "W0812 15:41:17.902001 10284 deprecation_wrapper.py:119] From C:\\Users\\rick_c137\\Anaconda3\\lib\\site-packages\\keras\\backend\\tensorflow_backend.py:3976: The name tf.nn.max_pool is deprecated. Please use tf.nn.max_pool2d instead.\n",
      "\n",
      "W0812 15:41:17.925936 10284 deprecation_wrapper.py:119] From C:\\Users\\rick_c137\\Anaconda3\\lib\\site-packages\\keras\\backend\\tensorflow_backend.py:133: The name tf.placeholder_with_default is deprecated. Please use tf.compat.v1.placeholder_with_default instead.\n",
      "\n",
      "W0812 15:41:17.931918 10284 deprecation.py:506] From C:\\Users\\rick_c137\\Anaconda3\\lib\\site-packages\\keras\\backend\\tensorflow_backend.py:3445: calling dropout (from tensorflow.python.ops.nn_ops) with keep_prob is deprecated and will be removed in a future version.\n",
      "Instructions for updating:\n",
      "Please use `rate` instead of `keep_prob`. Rate should be set to `rate = 1 - keep_prob`.\n",
      "W0812 15:41:17.970784 10284 deprecation_wrapper.py:119] From C:\\Users\\rick_c137\\Anaconda3\\lib\\site-packages\\keras\\optimizers.py:790: The name tf.train.Optimizer is deprecated. Please use tf.compat.v1.train.Optimizer instead.\n",
      "\n",
      "W0812 15:41:17.986773 10284 deprecation_wrapper.py:119] From C:\\Users\\rick_c137\\Anaconda3\\lib\\site-packages\\keras\\backend\\tensorflow_backend.py:3376: The name tf.log is deprecated. Please use tf.math.log instead.\n",
      "\n",
      "W0812 15:41:17.989765 10284 deprecation.py:323] From C:\\Users\\rick_c137\\Anaconda3\\lib\\site-packages\\tensorflow\\python\\ops\\nn_impl.py:180: add_dispatch_support.<locals>.wrapper (from tensorflow.python.ops.array_ops) is deprecated and will be removed in a future version.\n",
      "Instructions for updating:\n",
      "Use tf.where in 2.0, which has the same broadcast rule as np.where\n"
     ]
    },
    {
     "name": "stdout",
     "output_type": "stream",
     "text": [
      "***Good Accurary found: 91.07%***\n",
      "***Good Accurary found: 92.06%***\n",
      "***Good Accurary found: 94.23%***\n",
      "***Good Accurary found: 94.32%***\n"
     ]
    }
   ],
   "source": [
    "grid_params = {\n",
    "    \"conv__filters_1\" : [32],\n",
    "    \"conv__filters_2\" : [16],\n",
    "    \"density_units_1\" : [64],\n",
    "    \"density_units_2\" : [32]\n",
    "}\n",
    "best_gray_model = gridSearchCNN(X, y, grid_params, random_state=random_state)"
   ]
  },
  {
   "cell_type": "code",
   "execution_count": 38,
   "metadata": {},
   "outputs": [
    {
     "data": {
      "text/plain": [
       "0.9431920649233544"
      ]
     },
     "execution_count": 38,
     "metadata": {},
     "output_type": "execute_result"
    }
   ],
   "source": [
    "best_gray_model[\"best_score\"]"
   ]
  },
  {
   "cell_type": "code",
   "execution_count": 45,
   "metadata": {},
   "outputs": [
    {
     "data": {
      "text/plain": [
       "{'best_model': <keras.engine.sequential.Sequential at 0x21893349208>,\n",
       " 'best_score': 0.9431920649233544,\n",
       " 'best_params': {'conv__filters_1': 32,\n",
       "  'conv__filters_2': 16,\n",
       "  'density_units_1': 64,\n",
       "  'density_units_2': 32}}"
      ]
     },
     "execution_count": 45,
     "metadata": {},
     "output_type": "execute_result"
    }
   ],
   "source": [
    "best_gray_model"
   ]
  },
  {
   "cell_type": "code",
   "execution_count": null,
   "metadata": {},
   "outputs": [],
   "source": []
  },
  {
   "cell_type": "code",
   "execution_count": null,
   "metadata": {},
   "outputs": [],
   "source": []
  },
  {
   "cell_type": "code",
   "execution_count": null,
   "metadata": {},
   "outputs": [],
   "source": [
    "def get_image_data(files, resizing):\n",
    "    '''Normalizes ...............'''\n",
    "    IMAGE_FILE_ROOT = './data/bee_imgs/' \n",
    "    return (np.asanyarray([resize_image(imageio.imread(\"{}{}\".format(IMAGE_FILE_ROOT, file)), resizing) for file in files]) / 255) - 0.5"
   ]
  },
  {
   "cell_type": "code",
   "execution_count": null,
   "metadata": {},
   "outputs": [],
   "source": [
    "resizing = (IDEAL_WIDTH, IDEAL_HEIGHT, 3) # needed to remove 4th alpha channel\n",
    "\n",
    "X = get_image_data(data[\"file\"], resizing)\n",
    "\n",
    "y = data[\"has_varroa\"]\n",
    "X_train, X_test, y_train, y_test = train_test_split(X, y, test_size = .25, stratify = y, random_state = random_state)\n",
    "\n",
    "y_train_dummy = np_utils.to_categorical(y_train,2)\n",
    "y_test_dummy  = np_utils.to_categorical(y_test,2)"
   ]
  },
  {
   "cell_type": "code",
   "execution_count": null,
   "metadata": {},
   "outputs": [],
   "source": []
  },
  {
   "cell_type": "code",
   "execution_count": null,
   "metadata": {},
   "outputs": [],
   "source": [
    "initial_filters = 16\n",
    "density_units = 32\n",
    "\n",
    "batch_size = 64\n",
    "epochs = 16\n",
    "\n",
    "kernel_size = 3\n",
    "dropout = .5\n",
    "activation_func = \"relu\"\n",
    "\n",
    "# Instantiate a CNN.\n",
    "cnn_model_2 = Sequential()\n",
    "\n",
    "# Add a convolutional layer.\n",
    "cnn_model_2.add(Conv2D(filters   = initial_filters,         # number of filters\n",
    "                     kernel_size = kernel_size,        # height/width of filter\n",
    "                     activation  = activation_func,      # activation function \n",
    "                     input_shape = (IDEAL_WIDTH,IDEAL_HEIGHT,3)) # shape of input (image)\n",
    "               )\n",
    "\n",
    "# Add a pooling layer.\n",
    "cnn_model_2.add(MaxPooling2D(pool_size=(2,2))) # dimensions of region of pooling\n",
    "\n",
    "# Add another convolutional layer.\n",
    "cnn_model_2.add(Conv2D(filters = initial_filters * 2,\n",
    "                       kernel_size = kernel_size,\n",
    "                       activation=activation_func))\n",
    "\n",
    "# Add another pooling layer.\n",
    "cnn_model_2.add(MaxPooling2D(pool_size=(2,2)))\n",
    "\n",
    "# We have to remember to flatten to go from the \"box\" to the vertical line of nodes!\n",
    "cnn_model_2.add(Flatten())\n",
    "\n",
    "# Add a densely-connected layer with 64 neurons.\n",
    "cnn_model_2.add(Dense(density_units * 2, activation=activation_func))\n",
    "\n",
    "# Let's try to avoid overfitting!\n",
    "cnn_model_2.add(Dropout(dropout))\n",
    "\n",
    "# Add a densely-connected layer with 32 neurons.\n",
    "cnn_model_2.add(Dense(density_units, activation=activation_func))\n",
    "\n",
    "# Let's try to avoid overfitting!\n",
    "cnn_model_2.add(Dropout(dropout))\n",
    "\n",
    "# Add a final layer with 2 neurons.\n",
    "cnn_model_2.add(Dense(2, activation='softmax'))\n",
    "\n",
    "# Compile model\n",
    "cnn_model_2.compile(loss='binary_crossentropy',\n",
    "                    optimizer=\"adam\",\n",
    "                    metrics=[\"binary_accuracy\"])\n",
    "\n",
    "# Fit model on training data\n",
    "history = cnn_model_2.fit(X_train,\n",
    "                          y_train_dummy,\n",
    "                          batch_size=batch_size,\n",
    "                          validation_data=(X_test, y_test_dummy),\n",
    "                          epochs=epochs,\n",
    "                          verbose=1)"
   ]
  },
  {
   "cell_type": "code",
   "execution_count": null,
   "metadata": {},
   "outputs": [],
   "source": [
    "# Check out our train loss and test loss over epochs.\n",
    "train_loss = history.history['loss']\n",
    "test_loss = history.history['val_loss']\n",
    "\n",
    "# Set figure size.\n",
    "plt.figure(figsize=(12, 8))\n",
    "\n",
    "# Generate line plot of training, testing loss over epochs.\n",
    "plt.plot(train_loss, label='Training Loss', color='#185fad')\n",
    "plt.plot(test_loss, label='Testing Loss', color='orange')\n",
    "\n",
    "# Set title\n",
    "plt.title('Training and Testing Loss by Epoch', fontsize = 25)\n",
    "plt.xlabel('Epoch', fontsize = 18)\n",
    "plt.ylabel('Categorical Crossentropy', fontsize = 18)\n",
    "plt.xticks(range(len(test_loss)), labels = range(1,len(test_loss) + 1))\n",
    "plt.legend(fontsize = 18);"
   ]
  },
  {
   "cell_type": "code",
   "execution_count": null,
   "metadata": {},
   "outputs": [],
   "source": [
    "cnn_model_2.summary()"
   ]
  },
  {
   "cell_type": "code",
   "execution_count": null,
   "metadata": {},
   "outputs": [],
   "source": [
    "predictions = cnn_model_2.predict_classes(X_test)\n",
    "\n",
    "results = predictions - y_test\n",
    "results.value_counts(normalize = True)"
   ]
  },
  {
   "cell_type": "markdown",
   "metadata": {},
   "source": [
    "We see 1.11% of the test predictions were false positives, while .8% were false negatives."
   ]
  },
  {
   "cell_type": "code",
   "execution_count": null,
   "metadata": {},
   "outputs": [],
   "source": [
    "conf_matrix_stats(y_test, predictions)"
   ]
  },
  {
   "cell_type": "markdown",
   "metadata": {},
   "source": [
    "This model's __accuracy is 99.2%__ with a specificity of 99.97% and a sensativity of 94.6%.\n",
    "\n",
    "As this model performs much better than the baseline model, we can conclude this model is a more useful classifier."
   ]
  },
  {
   "cell_type": "markdown",
   "metadata": {},
   "source": [
    "## Retraining with rotated images"
   ]
  },
  {
   "cell_type": "code",
   "execution_count": null,
   "metadata": {},
   "outputs": [],
   "source": [
    "def get_rotated_image_data(files, resizing, preserve_range = True, normalize = True):\n",
    "    IMAGE_FILE_ROOT = './data/bee_imgs/'\n",
    "    out = []\n",
    "    for file in files:\n",
    "        merger = []\n",
    "        img = resize_image(imageio.imread(\"{}{}\".format(IMAGE_FILE_ROOT, file)), resizing, preserve_range=preserve_range)\n",
    "        if normalize:\n",
    "            img = (img / 255) - .5\n",
    "        merger.append(img)\n",
    "        merger.extend([rotate(img, angle) for angle in range(90,360,90)])\n",
    "        merger.extend([np.flipud(unflipped_img) for unflipped_img in merger])\n",
    "        out.extend(merger)\n",
    "    return np.asanyarray(out)"
   ]
  },
  {
   "cell_type": "code",
   "execution_count": null,
   "metadata": {},
   "outputs": [],
   "source": [
    "show_bad_images(get_rotated_image_data(data[\"file\"].iloc[0:1], resizing, preserve_range = False, normalize = False))"
   ]
  },
  {
   "cell_type": "markdown",
   "metadata": {},
   "source": [
    "Each image is rotated in all 4 direction and mirrored. This ensures the model is trained on as many possible orientations as possible."
   ]
  },
  {
   "cell_type": "code",
   "execution_count": null,
   "metadata": {},
   "outputs": [],
   "source": [
    "new_X = get_rotated_image_data(data[\"file\"], resizing)\n",
    "new_y = np.repeat(y,8) # each image is replicated 8 times, essentially\n",
    "\n",
    "X_train_rotated, X_test_rotated, y_train, y_test = train_test_split(new_X, new_y, test_size = .25, stratify = new_y, random_state = random_state)\n",
    "\n",
    "y_train_dummy = np_utils.to_categorical(y_train,2)\n",
    "y_test_dummy  = np_utils.to_categorical(y_test,2)"
   ]
  },
  {
   "cell_type": "code",
   "execution_count": null,
   "metadata": {},
   "outputs": [],
   "source": [
    "initial_filters = 16\n",
    "density_units = 32\n",
    "\n",
    "batch_size = 64\n",
    "epochs = 16\n",
    "\n",
    "kernel_size = 3\n",
    "dropout = .5\n",
    "activation_func = \"relu\"\n",
    "\n",
    "# Instantiate a CNN.\n",
    "cnn_model_2 = Sequential()\n",
    "\n",
    "# Add a convolutional layer.\n",
    "cnn_model_2.add(Conv2D(filters   = initial_filters,         # number of filters\n",
    "                     kernel_size = kernel_size,        # height/width of filter\n",
    "                     activation  = activation_func,      # activation function \n",
    "                     input_shape = (IDEAL_WIDTH,IDEAL_HEIGHT,3)) # shape of input (image)\n",
    "               )\n",
    "\n",
    "# Add a pooling layer.\n",
    "cnn_model_2.add(MaxPooling2D(pool_size=(2,2))) # dimensions of region of pooling\n",
    "\n",
    "# Add another convolutional layer.\n",
    "cnn_model_2.add(Conv2D(filters = initial_filters * 2,\n",
    "                       kernel_size = kernel_size,\n",
    "                       activation=activation_func))\n",
    "\n",
    "# Add another pooling layer.\n",
    "cnn_model_2.add(MaxPooling2D(pool_size=(2,2)))\n",
    "\n",
    "# We have to remember to flatten to go from the \"box\" to the vertical line of nodes!\n",
    "cnn_model_2.add(Flatten())\n",
    "\n",
    "# Add a densely-connected layer with 64 neurons.\n",
    "cnn_model_2.add(Dense(density_units * 2, activation=activation_func))\n",
    "\n",
    "# Let's try to avoid overfitting!\n",
    "cnn_model_2.add(Dropout(dropout))\n",
    "\n",
    "# Add a densely-connected layer with 32 neurons.\n",
    "cnn_model_2.add(Dense(density_units, activation=activation_func))\n",
    "\n",
    "# Let's try to avoid overfitting!\n",
    "cnn_model_2.add(Dropout(dropout))\n",
    "\n",
    "# Add a final layer with 2 neurons.\n",
    "cnn_model_2.add(Dense(2, activation='softmax'))\n",
    "\n",
    "# Compile model\n",
    "cnn_model_2.compile(loss='binary_crossentropy',\n",
    "                    optimizer=\"adam\",\n",
    "                    metrics=[\"binary_accuracy\"])\n",
    "\n",
    "# Fit model on training data\n",
    "history = cnn_model_2.fit(X_train_rotated,\n",
    "                          y_train_dummy,\n",
    "                          batch_size=batch_size,\n",
    "                          validation_data=(X_test_rotated, y_test_dummy),\n",
    "                          epochs=epochs,\n",
    "                          verbose=1)"
   ]
  },
  {
   "cell_type": "code",
   "execution_count": null,
   "metadata": {},
   "outputs": [],
   "source": [
    "# Check out our train loss and test loss over epochs.\n",
    "train_loss = history.history['loss']\n",
    "test_loss = history.history['val_loss']\n",
    "\n",
    "# Set figure size.\n",
    "plt.figure(figsize=(12, 8))\n",
    "\n",
    "# Generate line plot of training, testing loss over epochs.\n",
    "plt.plot(train_loss, label='Training Loss', color='#185fad')\n",
    "plt.plot(test_loss, label='Testing Loss', color='orange')\n",
    "\n",
    "# Set title\n",
    "plt.title('Training and Testing Loss by Epoch', fontsize = 25)\n",
    "plt.xlabel('Epoch', fontsize = 18)\n",
    "plt.ylabel('Categorical Crossentropy', fontsize = 18)\n",
    "plt.xticks(range(len(test_loss)), labels = range(1,len(test_loss) + 1))\n",
    "plt.legend(fontsize = 18);"
   ]
  },
  {
   "cell_type": "code",
   "execution_count": null,
   "metadata": {},
   "outputs": [],
   "source": [
    "predictions2 = cnn_model_2.predict_classes(X_test)\n",
    "results2 = predictions2 - y_test\n",
    "results2.value_counts(normalize = True)"
   ]
  },
  {
   "cell_type": "code",
   "execution_count": null,
   "metadata": {},
   "outputs": [],
   "source": [
    "conf_matrix_stats(y_test, predictions2)"
   ]
  },
  {
   "cell_type": "code",
   "execution_count": null,
   "metadata": {},
   "outputs": [],
   "source": [
    "false_positive_files = data.loc[results2[results2 == -1].index][\"file\"].unique()\n",
    "show_bad_images(false_positive_files, [\"false pos.\"] * len(false_positive_files))"
   ]
  },
  {
   "cell_type": "markdown",
   "metadata": {},
   "source": [
    "- Many images are completely lacking in definition\n",
    "- Another noteworthy trend is the darker exoskeletons of certain species of bees, which make them more prone to being falsely classified. This model only takes the images as they are and does not take any additional data into account. If a bee \"species\" could be included, it would allow the model to more accurately distinguish darker bees with varroa mites.\n",
    "- confusing background"
   ]
  },
  {
   "cell_type": "code",
   "execution_count": null,
   "metadata": {},
   "outputs": [],
   "source": [
    "false_negative_files = data.loc[results2[results2 == 1].index][\"file\"].unique()\n",
    "show_bad_images(false_negative_files, [\"false neg.\"] * len(false_negative_files), ncols = 6, height = 2)"
   ]
  },
  {
   "cell_type": "markdown",
   "metadata": {},
   "source": [
    "## Saving/Loading the model"
   ]
  },
  {
   "cell_type": "code",
   "execution_count": null,
   "metadata": {},
   "outputs": [],
   "source": [
    "cnn_model_2.save_weights('cnn.h5')"
   ]
  },
  {
   "cell_type": "code",
   "execution_count": null,
   "metadata": {},
   "outputs": [],
   "source": [
    "# from keras.models import Sequential\n",
    "# from keras.layers import Conv2D, MaxPooling2D, Dense, Flatten\n",
    "\n",
    "# num_filters = 8\n",
    "# filter_size = 3\n",
    "# pool_size = 2\n",
    "\n",
    "# # Build the model.\n",
    "# model = Sequential([\n",
    "#   Conv2D(num_filters, filter_size, input_shape=(28, 28, 1)),\n",
    "#   MaxPooling2D(pool_size=pool_size),\n",
    "#   Flatten(),\n",
    "#   Dense(10, activation='softmax'),\n",
    "# ])\n",
    "\n",
    "# # Load the model's saved weights.\n",
    "# model.load_weights('cnn.h5')"
   ]
  },
  {
   "cell_type": "code",
   "execution_count": null,
   "metadata": {},
   "outputs": [],
   "source": []
  },
  {
   "cell_type": "code",
   "execution_count": null,
   "metadata": {},
   "outputs": [],
   "source": []
  },
  {
   "cell_type": "markdown",
   "metadata": {},
   "source": [
    "## Removing color!\n",
    "Removing color significantly lowers accuracy"
   ]
  },
  {
   "cell_type": "code",
   "execution_count": null,
   "metadata": {},
   "outputs": [],
   "source": [
    "def grayscale_invert_images(images, add_dim = True):\n",
    "    originals = np.asanyarray([rgb2gray(img) for img in images])\n",
    "    inverted = 255 - originals\n",
    "    out = np.concatenate([originals, inverted])\n",
    "    \n",
    "    if add_dim:\n",
    "        return np.expand_dims(out, axis=3)\n",
    "    return out"
   ]
  },
  {
   "cell_type": "code",
   "execution_count": null,
   "metadata": {},
   "outputs": [],
   "source": [
    "X_gray_inv = grayscale_invert_images(new_X)\n",
    "y_gray_inv = np.concatenate([new_y, new_y]) # each image is replicated 2 times, essentially\n",
    "\n",
    "X_train_gray_inv, X_test_gray_inv, y_train, y_test = train_test_split(X_gray_inv, y_gray_inv, \n",
    "                                                                      test_size = .25, stratify = y_gray_inv, \n",
    "                                                                      random_state = random_state)\n",
    "y_train_gray_inv_dummy = np_utils.to_categorical(y_train,2)\n",
    "y_test_gray_inv_dummy  = np_utils.to_categorical(y_test,2)"
   ]
  },
  {
   "cell_type": "code",
   "execution_count": null,
   "metadata": {},
   "outputs": [],
   "source": [
    "plt.imshow(np.squeeze(X_gray_inv[0]), cmap=\"gray\");"
   ]
  },
  {
   "cell_type": "code",
   "execution_count": null,
   "metadata": {},
   "outputs": [],
   "source": [
    "plt.imshow(np.squeeze(X_gray_inv[X_gray_inv.shape[0] // 2]), cmap=\"gray\");"
   ]
  },
  {
   "cell_type": "code",
   "execution_count": null,
   "metadata": {},
   "outputs": [],
   "source": [
    "initial_filters = 16\n",
    "density_units = 32\n",
    "\n",
    "batch_size = 64\n",
    "epochs = 8\n",
    "\n",
    "kernel_size = 3\n",
    "dropout = .5\n",
    "activation_func = \"relu\"\n",
    "\n",
    "# Instantiate a CNN.\n",
    "cnn_model_2 = Sequential([\n",
    "    Conv2D(filters = initial_filters, kernel_size = kernel_size, \n",
    "           activation  = activation_func, input_shape = (IDEAL_WIDTH,IDEAL_HEIGHT, 1)),\n",
    "    MaxPooling2D(pool_size=(2,2)),\n",
    "    Conv2D(filters = initial_filters * 2, kernel_size = kernel_size, activation=activation_func),\n",
    "    MaxPooling2D(pool_size=(2,2)),\n",
    "    Flatten(),\n",
    "    Dense(density_units * 2, activation=activation_func),\n",
    "    Dropout(dropout),\n",
    "    Dense(density_units, activation=activation_func),\n",
    "    Dropout(dropout),\n",
    "    Dense(2, activation='softmax')\n",
    "])\n",
    "\n",
    "# Compile model\n",
    "cnn_model_2.compile(loss='binary_crossentropy',\n",
    "                    optimizer=\"adam\",\n",
    "                    metrics=[\"binary_accuracy\"])\n",
    "\n",
    "# Fit model on training data\n",
    "history = cnn_model_2.fit(X_train_gray_inv,\n",
    "                          y_train_gray_inv_dummy,\n",
    "                          batch_size=batch_size,\n",
    "                          validation_data=(X_test_gray_inv, y_test_gray_inv_dummy),\n",
    "                          epochs=epochs,\n",
    "                          verbose=1)\n",
    "\n",
    "# # Load the model's saved weights.\n",
    "# cnn_model_2.load_weights('cnn.h5')"
   ]
  },
  {
   "cell_type": "code",
   "execution_count": null,
   "metadata": {},
   "outputs": [],
   "source": []
  },
  {
   "cell_type": "code",
   "execution_count": null,
   "metadata": {},
   "outputs": [],
   "source": []
  },
  {
   "cell_type": "code",
   "execution_count": null,
   "metadata": {},
   "outputs": [],
   "source": [
    "predictions2 = cnn_model_2.predict_classes(X_test)\n",
    "results2 = predictions2 - y_test\n",
    "results2.value_counts(normalize = True)"
   ]
  },
  {
   "cell_type": "code",
   "execution_count": null,
   "metadata": {},
   "outputs": [],
   "source": [
    "false_positive_files = data.loc[results2[results2 == -1].index][\"file\"].unique()\n",
    "show_bad_images(false_positive_files, [\"false pos.\"] * len(false_positive_files))"
   ]
  },
  {
   "cell_type": "code",
   "execution_count": null,
   "metadata": {},
   "outputs": [],
   "source": [
    "false_negative_files = data.loc[results2[results2 == 1].index][\"file\"].unique()\n",
    "show_bad_images(false_negative_files, [\"false neg.\"] * len(false_negative_files), ncols = 6, height = 2)"
   ]
  },
  {
   "cell_type": "markdown",
   "metadata": {},
   "source": [
    "With only 3 false negatives, this mod"
   ]
  },
  {
   "cell_type": "markdown",
   "metadata": {},
   "source": [
    "## Just inverting image\n",
    "\n",
    "97.4%"
   ]
  },
  {
   "cell_type": "code",
   "execution_count": null,
   "metadata": {},
   "outputs": [],
   "source": [
    "def invert_images(images, add_dim = True):\n",
    "    return 1 - images"
   ]
  },
  {
   "cell_type": "code",
   "execution_count": null,
   "metadata": {},
   "outputs": [],
   "source": [
    "def _get_image_data(files, resizing):\n",
    "    '''Normalizes ...............'''\n",
    "    IMAGE_FILE_ROOT = './data/bee_imgs/' \n",
    "    return (np.asanyarray([resize_image(imageio.imread(\"{}{}\".format(IMAGE_FILE_ROOT, file)), resizing, preserve_range=False) for file in files]))"
   ]
  },
  {
   "cell_type": "code",
   "execution_count": null,
   "metadata": {},
   "outputs": [],
   "source": [
    "plt.imshow(X[0]);"
   ]
  },
  {
   "cell_type": "code",
   "execution_count": null,
   "metadata": {},
   "outputs": [],
   "source": [
    "i_X = invert_images(X)"
   ]
  },
  {
   "cell_type": "code",
   "execution_count": null,
   "metadata": {},
   "outputs": [],
   "source": [
    "plt.imshow(i_X[0])"
   ]
  },
  {
   "cell_type": "code",
   "execution_count": null,
   "metadata": {},
   "outputs": [],
   "source": [
    "resizing = (IDEAL_WIDTH, IDEAL_HEIGHT, 3) # needed to remove 4th alpha channel\n",
    "\n",
    "X = _get_image_data(data[\"file\"], resizing)\n",
    "i_X = invert_images(X)\n",
    "X = np.concatenate([X,i_X])\n",
    "\n",
    "y = np.concatenate([data[\"has_varroa\"], data[\"has_varroa\"]])\n",
    "\n",
    "X_train, X_test, y_train, y_test = train_test_split(X, y, test_size = .25, stratify = y, random_state = random_state)\n",
    "\n",
    "y_train_dummy = np_utils.to_categorical(y_train,2)\n",
    "y_test_dummy  = np_utils.to_categorical(y_test,2)"
   ]
  },
  {
   "cell_type": "code",
   "execution_count": null,
   "metadata": {},
   "outputs": [],
   "source": [
    "initial_filters = 16\n",
    "density_units = 32\n",
    "\n",
    "batch_size = 64\n",
    "epochs = 20\n",
    "\n",
    "kernel_size = 3\n",
    "dropout = .5\n",
    "activation_func = \"relu\"\n",
    "\n",
    "# Instantiate a CNN.\n",
    "cnn_model_2 = Sequential([\n",
    "    Conv2D(filters = initial_filters, kernel_size = kernel_size, \n",
    "           activation  = activation_func, input_shape = (IDEAL_WIDTH,IDEAL_HEIGHT, 3)),\n",
    "    MaxPooling2D(pool_size=(2,2)),\n",
    "    Conv2D(filters = initial_filters * 2, kernel_size = kernel_size, activation=activation_func),\n",
    "    MaxPooling2D(pool_size=(2,2)),\n",
    "    Flatten(),\n",
    "    Dense(density_units * 2, activation=activation_func),\n",
    "    Dropout(dropout),\n",
    "    Dense(density_units, activation=activation_func),\n",
    "    Dropout(dropout),\n",
    "    Dense(2, activation='softmax')\n",
    "])\n",
    "\n",
    "# Compile model\n",
    "cnn_model_2.compile(loss='binary_crossentropy',\n",
    "                    optimizer=\"adam\",\n",
    "                    metrics=[\"binary_accuracy\"])\n",
    "\n",
    "# Fit model on training data\n",
    "history = cnn_model_2.fit(X_train,\n",
    "                          y_train_dummy,\n",
    "                          batch_size=batch_size,\n",
    "                          validation_data=(X_test, y_test_dummy),\n",
    "                          epochs=epochs,\n",
    "                          verbose=1)\n",
    "\n",
    "# # Load the model's saved weights.\n",
    "# cnn_model_2.load_weights('cnn.h5')"
   ]
  },
  {
   "cell_type": "code",
   "execution_count": null,
   "metadata": {},
   "outputs": [],
   "source": []
  },
  {
   "cell_type": "code",
   "execution_count": null,
   "metadata": {},
   "outputs": [],
   "source": [
    "# Check out our train loss and test loss over epochs.\n",
    "train_loss = history.history['loss']\n",
    "test_loss = history.history['val_loss']\n",
    "\n",
    "# Set figure size.\n",
    "plt.figure(figsize=(12, 8))\n",
    "\n",
    "# Generate line plot of training, testing loss over epochs.\n",
    "plt.plot(train_loss, label='Training Loss', color='#185fad')\n",
    "plt.plot(test_loss, label='Testing Loss', color='orange')\n",
    "\n",
    "# Set title\n",
    "plt.title('Training and Testing Loss by Epoch', fontsize = 25)\n",
    "plt.xlabel('Epoch', fontsize = 18)\n",
    "plt.ylabel('Categorical Crossentropy', fontsize = 18)\n",
    "plt.xticks(range(len(test_loss)), labels = range(1,len(test_loss) + 1))\n",
    "plt.legend(fontsize = 18);"
   ]
  },
  {
   "cell_type": "code",
   "execution_count": null,
   "metadata": {},
   "outputs": [],
   "source": [
    "predictions2 = cnn_model_2.predict_classes(X_test)\n",
    "results2 = pd.Series(predictions2 - y_test)\n",
    "results2.value_counts(normalize = True)"
   ]
  },
  {
   "cell_type": "code",
   "execution_count": null,
   "metadata": {},
   "outputs": [],
   "source": [
    "false_positive_files = data.loc[results2[results2 == -1].index][\"file\"].unique()\n",
    "show_bad_images(false_positive_files, [\"false pos.\"] * len(false_positive_files))"
   ]
  },
  {
   "cell_type": "markdown",
   "metadata": {},
   "source": [
    "## Visualizing the CNN\n",
    "- https://www.analyticsvidhya.com/blog/2019/05/understanding-visualizing-neural-networks/\n",
    "- https://machinelearningmastery.com/how-to-visualize-filters-and-feature-maps-in-convolutional-neural-networks/\n",
    "- https://datascience.stackexchange.com/questions/14899/how-to-draw-deep-learning-network-architecture-diagrams\n",
    "- https://machinelearningmastery.com/pooling-layers-for-convolutional-neural-networks/\n",
    "- http://alexlenail.me/NN-SVG/LeNet.html\n",
    "- https://www.kdnuggets.com/2016/11/intuitive-explanation-convolutional-neural-networks.html/3\n",
    "- https://datascience.stackexchange.com/questions/14899/how-to-draw-deep-learning-network-architecture-diagrams"
   ]
  },
  {
   "cell_type": "code",
   "execution_count": null,
   "metadata": {},
   "outputs": [],
   "source": [
    "false_negative_files = data.loc[results2[results2 == 1].index][\"file\"].unique()\n",
    "show_bad_images(false_negative_files, [\"false neg.\"] * len(false_negative_files), ncols = 6, height = 2)"
   ]
  },
  {
   "cell_type": "code",
   "execution_count": null,
   "metadata": {},
   "outputs": [],
   "source": [
    "def get_image_data(files):\n",
    "    IMAGE_FILE_ROOT = './data/bee_imgs/' \n",
    "    return [imageio.imread(\"{}{}\".format(IMAGE_FILE_ROOT, file)) for file in files]"
   ]
  },
  {
   "cell_type": "code",
   "execution_count": null,
   "metadata": {},
   "outputs": [],
   "source": [
    "raw_images = get_image_data(data[\"file\"].values)\n",
    "\n",
    "from image_handler import ImageHandler\n",
    "\n",
    "img_store = ImageHandler(raw_images)\n",
    "\n",
    "ImageHandler._images.shape"
   ]
  },
  {
   "cell_type": "markdown",
   "metadata": {},
   "source": [
    "## Assumptions\n",
    "\n",
    "- ignoring annotated factors\n",
    "- varroa images only from 1 location - v. limiting\n",
    "- single bee images\n",
    "- "
   ]
  },
  {
   "cell_type": "markdown",
   "metadata": {},
   "source": [
    "## Conclustions and Recommendations"
   ]
  },
  {
   "cell_type": "markdown",
   "metadata": {},
   "source": [
    "# TO DO \n",
    "- ~~Organize code w/OOP or functional design~~\n",
    "- ~~try grayscale w/inverted colors (no good)~~\n",
    "- ~~Reorg Problem Statement ( shorten, group, and spell check!) Avoid first person - scientific (\"we\")~~\n",
    "- Reorg the flow of data\n",
    "- Update table of contents\n",
    "- Fill in documentation for functions\n",
    "- Try AWS for all iterations"
   ]
  },
  {
   "cell_type": "markdown",
   "metadata": {},
   "source": [
    "## Source Documentation\n",
    "- [Honey Bee Annotated Image Dataset (Kaggle)](https://www.kaggle.com/jenny18/honey-bee-annotated-images)\n",
    "- [Jeremy Jordan](https://www.jeremyjordan.me/batch-normalization/)"
   ]
  }
 ],
 "metadata": {
  "kernelspec": {
   "display_name": "Python 3",
   "language": "python",
   "name": "python3"
  },
  "language_info": {
   "codemirror_mode": {
    "name": "ipython",
    "version": 3
   },
   "file_extension": ".py",
   "mimetype": "text/x-python",
   "name": "python",
   "nbconvert_exporter": "python",
   "pygments_lexer": "ipython3",
   "version": "3.7.3"
  }
 },
 "nbformat": 4,
 "nbformat_minor": 2
}
