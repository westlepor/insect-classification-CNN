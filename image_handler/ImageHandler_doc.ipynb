{
 "cells": [
  {
   "cell_type": "markdown",
   "metadata": {},
   "source": [
    "# `ImageHandler` Documentation\n",
    "\n",
    "#### Author: Mahdi Shadkam-Farrokhi: [GitHub](https://github.com/Shaddyjr) | [Medium](https://medium.com/@mahdis.pw) | [LinkedIn](https://www.linkedin.com/in/mahdi-shadkam-farrokhi-m-s-8a410958/) | [mahdis.pw](http://mahdis.pw)"
   ]
  },
  {
   "cell_type": "markdown",
   "metadata": {},
   "source": [
    "## Contents\n",
    "- [Purpose](#Purpose)\n",
    "- [Loading example data](#Loading-example-data)\n",
    "- [Instantiation](#Instantiation)\n",
    "- [.images](#.images)\n",
    "- [.images_for_display](#.images_for_display)\n",
    "- [.resize()](#.resize())\n",
    "- [.normalize()](#.normalize())\n",
    "- [.grayscale()](#.grayscale())\n",
    "- [.invert()](#.invert())\n",
    "- [.rotate()](#.rotate())\n",
    "- [Method Chaining](#Method-Chaining)\n",
    "- [.transform()](#.transform())\n",
    "- [.get_by_index()](#.get_by_index())"
   ]
  },
  {
   "cell_type": "markdown",
   "metadata": {},
   "source": [
    "## Purpose\n",
    "Single image transformations are manageable, but introducing compounded transformations quickly gets out of hand. \n",
    "\n",
    "The `ImageHandler` class was created as a simple tool to aid in storing, transforming, and visualizing N-dimensional `numpy.array`-like images.  The `ImageHandler` object abstracts and simplifies this process, all while maintaining faithful tracking of indeces.\n",
    "\n",
    "_NOTE: Transformations do not alter the original data object. A copy is returned after one or more transformations take place. Transformations are chainable._"
   ]
  },
  {
   "cell_type": "markdown",
   "metadata": {},
   "source": [
    "## Loading example data"
   ]
  },
  {
   "cell_type": "code",
   "execution_count": 2,
   "metadata": {},
   "outputs": [
    {
     "ename": "SyntaxError",
     "evalue": "invalid syntax (<ipython-input-2-2c42d82d07e8>, line 5)",
     "output_type": "error",
     "traceback": [
      "\u001b[1;36m  File \u001b[1;32m\"<ipython-input-2-2c42d82d07e8>\"\u001b[1;36m, line \u001b[1;32m5\u001b[0m\n\u001b[1;33m    from ../image_handler import ImageHandler\u001b[0m\n\u001b[1;37m           ^\u001b[0m\n\u001b[1;31mSyntaxError\u001b[0m\u001b[1;31m:\u001b[0m invalid syntax\n"
     ]
    }
   ],
   "source": [
    "import pandas as pd\n",
    "import numpy as np\n",
    "import matplotlib.pyplot as plt\n",
    "import imageio\n",
    "from image_handler import ImageHandler"
   ]
  },
  {
   "cell_type": "code",
   "execution_count": null,
   "metadata": {},
   "outputs": [],
   "source": [
    "data = pd.read_csv('./data/bee_data.csv', nrows = 10, usecols = [0])"
   ]
  },
  {
   "cell_type": "code",
   "execution_count": null,
   "metadata": {},
   "outputs": [],
   "source": [
    "data.head()"
   ]
  },
  {
   "cell_type": "code",
   "execution_count": null,
   "metadata": {},
   "outputs": [],
   "source": [
    "def get_image_data(files):\n",
    "    IMAGE_FILE_ROOT = './data/bee_imgs/' \n",
    "    return np.asanyarray([imageio.imread(\"{}{}\".format(IMAGE_FILE_ROOT, file)) for file in files])"
   ]
  },
  {
   "cell_type": "code",
   "execution_count": null,
   "metadata": {},
   "outputs": [],
   "source": [
    "raw_images = get_image_data(data[\"file\"].values)"
   ]
  },
  {
   "cell_type": "code",
   "execution_count": null,
   "metadata": {},
   "outputs": [],
   "source": [
    "def show_image(image, ax = plt, title = None, cmap = None):\n",
    "    if type(image) == list:\n",
    "        n = len(image)\n",
    "        cols = 4\n",
    "        f, axes = plt.subplots(nrows=int(np.ceil(n/cols)),ncols=cols, figsize=(14,8))\n",
    "        axes = axes.flatten()\n",
    "        for i in range(n):\n",
    "            axes[i].imshow(image[i], cmap = cmap)\n",
    "    else:\n",
    "        ax.imshow(image, cmap = cmap)\n",
    "        ax.tick_params(bottom = False, left = False, labelbottom = False, labelleft = False)"
   ]
  },
  {
   "cell_type": "code",
   "execution_count": null,
   "metadata": {},
   "outputs": [],
   "source": [
    "show_image(raw_images[0])"
   ]
  },
  {
   "cell_type": "markdown",
   "metadata": {},
   "source": [
    "## Instantiation\n",
    "Instantiate with a list or `numpy.array` of N-dimensional `numpy.array`-like images."
   ]
  },
  {
   "cell_type": "code",
   "execution_count": null,
   "metadata": {},
   "outputs": [],
   "source": [
    "img_store = ImageHandler(raw_images)"
   ]
  },
  {
   "cell_type": "markdown",
   "metadata": {},
   "source": [
    "## .images\n",
    "The `.images` property contains the stored images for user access."
   ]
  },
  {
   "cell_type": "code",
   "execution_count": null,
   "metadata": {},
   "outputs": [],
   "source": [
    "show_image(img_store.images[0])"
   ]
  },
  {
   "cell_type": "markdown",
   "metadata": {},
   "source": [
    "## .index\n",
    "The `.index` property contains the associated image indeces."
   ]
  },
  {
   "cell_type": "code",
   "execution_count": null,
   "metadata": {},
   "outputs": [],
   "source": [
    "img_store.index"
   ]
  },
  {
   "cell_type": "markdown",
   "metadata": {},
   "source": [
    "## .images_for_display\n",
    "\n",
    "Given different formatting issues, such as normalization, some transformations will cause images to be distorted. \n",
    "Instead of accessing `.images` for visualization, the `.images_for_display` returns the same images, but transformed back into a displayable format.\n",
    "\n",
    "Use `.images_for_display` if you intend to visualize images."
   ]
  },
  {
   "cell_type": "code",
   "execution_count": null,
   "metadata": {},
   "outputs": [],
   "source": [
    "resized_and_normalized = img_store.resize((54,54)).normalize()\n",
    "show_image(resized_and_normalized.images[0])"
   ]
  },
  {
   "cell_type": "code",
   "execution_count": null,
   "metadata": {},
   "outputs": [],
   "source": [
    "show_image(resized_and_normalized.images_for_display[0])"
   ]
  },
  {
   "cell_type": "markdown",
   "metadata": {},
   "source": [
    "## .resize()\n",
    "\n",
    "The `.resize()` method takes a single argument `resizing`, which takes a tuple of 2 integers representing the resized `(width, height)`\n",
    "\n",
    "Typically, `.resize()` is the first transformation to use when standardizing image data."
   ]
  },
  {
   "cell_type": "code",
   "execution_count": null,
   "metadata": {},
   "outputs": [],
   "source": [
    "resizing = (50, 50)\n",
    "resized = img_store.resize(resizing)\n",
    "show_image(resized.images_for_display[0])"
   ]
  },
  {
   "cell_type": "markdown",
   "metadata": {},
   "source": [
    "## .normalize()\n",
    "\n",
    "This method is used simply to rescale the image data from (0,255) to (-0.5,0.5), which is found to work best with convolutional neural networks. This tranformation makes it impossible to visualize the data, however. Use `.images_for_display` to show the original scaled image data."
   ]
  },
  {
   "cell_type": "code",
   "execution_count": null,
   "metadata": {},
   "outputs": [],
   "source": [
    "resized_and_normalized = img_store.resize((54,54)).normalize()"
   ]
  },
  {
   "cell_type": "markdown",
   "metadata": {},
   "source": [
    "## .grayscale()\n",
    "\n",
    "Converts the image data to grayscale.\n",
    "\n",
    "_NOTE: the alpha channel is reduced to 1-dim_"
   ]
  },
  {
   "cell_type": "code",
   "execution_count": null,
   "metadata": {},
   "outputs": [],
   "source": [
    "gray = img_store.resize((50,50)).grayscale()\n",
    "show_image(gray.images_for_display[0], cmap = \"gray\")"
   ]
  },
  {
   "cell_type": "code",
   "execution_count": null,
   "metadata": {},
   "outputs": [],
   "source": [
    "gray.images.shape # 10 images, 50x50, with 1 alpha channel"
   ]
  },
  {
   "cell_type": "markdown",
   "metadata": {},
   "source": [
    "## .invert()\n",
    "\n",
    "Inverts image colors."
   ]
  },
  {
   "cell_type": "code",
   "execution_count": null,
   "metadata": {},
   "outputs": [],
   "source": [
    "inverted = img_store.resize((50,50)).invert()\n",
    "show_image(inverted.images_for_display[0])"
   ]
  },
  {
   "cell_type": "markdown",
   "metadata": {},
   "source": [
    "## .rotate()\n",
    "\n",
    "Returns an `ImageHandler` with each image rotated 0, 90, 180, and 270 degrees along with each of those images mirrored. Therefor, this tranformation returns n * 8 images, where n = number of original images stored.\n",
    "\n",
    "_NOTE: The returned images are not in the same order as the original. Use `.index` to discern image order._"
   ]
  },
  {
   "cell_type": "code",
   "execution_count": null,
   "metadata": {},
   "outputs": [],
   "source": [
    "rotated = img_store.resize((50,50)).rotate()"
   ]
  },
  {
   "cell_type": "code",
   "execution_count": null,
   "metadata": {},
   "outputs": [],
   "source": [
    "rotated.images.shape # (10 original images) * 8 = 80 images returned"
   ]
  },
  {
   "cell_type": "code",
   "execution_count": null,
   "metadata": {},
   "outputs": [],
   "source": [
    "rotated.index # order not continuous, but discernable"
   ]
  },
  {
   "cell_type": "code",
   "execution_count": null,
   "metadata": {},
   "outputs": [],
   "source": [
    "desired_image_index = 0\n",
    "index_mask = [i for i, index in enumerate(rotated.index) if index == desired_image_index]\n",
    "desired_images = rotated.images_for_display[index_mask] # retreiving desired images"
   ]
  },
  {
   "cell_type": "code",
   "execution_count": null,
   "metadata": {},
   "outputs": [],
   "source": [
    "show_image(list(desired_images))"
   ]
  },
  {
   "cell_type": "markdown",
   "metadata": {},
   "source": [
    "## Method Chaining\n",
    "Methods are chainable for convenience."
   ]
  },
  {
   "cell_type": "code",
   "execution_count": null,
   "metadata": {},
   "outputs": [],
   "source": [
    "resized_rotated_inverted_gray = img_store.resize((50,50)).rotate().invert().grayscale()\n",
    "\n",
    "desired_image_index = 0\n",
    "index_mask = [i for i, index in enumerate(resized_rotated_inverted_gray.index) if index == desired_image_index]\n",
    "desired_images = resized_rotated_inverted_gray.images_for_display[index_mask] # retreiving desired images"
   ]
  },
  {
   "cell_type": "code",
   "execution_count": null,
   "metadata": {},
   "outputs": [],
   "source": [
    "show_image(list(desired_images), cmap = \"gray\")"
   ]
  },
  {
   "cell_type": "markdown",
   "metadata": {},
   "source": [
    "## .transform()\n",
    "For simplification, `.transform()` combines all desired transformations in a single method call."
   ]
  },
  {
   "cell_type": "code",
   "execution_count": null,
   "metadata": {},
   "outputs": [],
   "source": [
    "show_image(list(img_store.images_for_display[:4]))"
   ]
  },
  {
   "cell_type": "code",
   "execution_count": null,
   "metadata": {},
   "outputs": [],
   "source": [
    "resize_invert_grayscale = img_store.transform(resize = (50,50), invert = True, grayscale = True)\n",
    "show_image(list(resize_invert_grayscale.images_for_display[:4]), cmap = \"gray\")"
   ]
  },
  {
   "cell_type": "markdown",
   "metadata": {},
   "source": [
    "## .get_by_index()\n",
    "\n",
    "The `.get_by_index()` method takes a list if indeces and teturns an `ImageHandler` of the subset of images."
   ]
  },
  {
   "cell_type": "code",
   "execution_count": null,
   "metadata": {},
   "outputs": [],
   "source": [
    "subset = [4,8]\n",
    "sub_img_store = img_store.get_by_index(subset)"
   ]
  },
  {
   "cell_type": "code",
   "execution_count": null,
   "metadata": {},
   "outputs": [],
   "source": [
    "show_image(sub_img_store.images_for_display[0])"
   ]
  }
 ],
 "metadata": {
  "kernelspec": {
   "display_name": "Python 3",
   "language": "python",
   "name": "python3"
  },
  "language_info": {
   "codemirror_mode": {
    "name": "ipython",
    "version": 3
   },
   "file_extension": ".py",
   "mimetype": "text/x-python",
   "name": "python",
   "nbconvert_exporter": "python",
   "pygments_lexer": "ipython3",
   "version": "3.7.3"
  }
 },
 "nbformat": 4,
 "nbformat_minor": 2
}
